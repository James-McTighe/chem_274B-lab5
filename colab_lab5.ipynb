{
 "cells": [
  {
   "cell_type": "markdown",
   "metadata": {
    "colab_type": "text",
    "id": "view-in-github"
   },
   "source": [
    "<a href=\"https://colab.research.google.com/github/James-McTighe/chem_274B-lab5/blob/main/colab_lab5.ipynb\" target=\"_parent\"><img src=\"https://colab.research.google.com/assets/colab-badge.svg\" alt=\"Open In Colab\"/></a>"
   ]
  },
  {
   "cell_type": "markdown",
   "metadata": {
    "id": "1SzHwR6retz6"
   },
   "source": [
    "# Lab 5: Dissecting the Role of Algorithms in Fragment-based Drug Discovery"
   ]
  },
  {
   "cell_type": "markdown",
   "metadata": {
    "id": "1uDqjtJ_etz8"
   },
   "source": [
    "Review the lab material and go through the entire notebook.\n",
    "The lab contains 5 exercises for you to solve. The entire lab is worth 2.5% of your final grade and each exercise is worth 0.4% of your final grade. Going through the full notebook is worth 0.5% of your final grade.\n",
    "Any extra credit or bonus exercises are worth an additional 0.4%.\n",
    "\n",
    "Labs are due by Friday at 11:59 PM PST and can be submitted on BCourses assignment page for the corresponding lab."
   ]
  },
  {
   "cell_type": "markdown",
   "metadata": {
    "id": "ibWFgj24etz9"
   },
   "source": [
    "## Setup"
   ]
  },
  {
   "cell_type": "markdown",
   "metadata": {
    "id": "ECR2rTUWetz-"
   },
   "source": [
    "Run the below steps at the beginning of lab to set up required packages."
   ]
  },
  {
   "cell_type": "code",
   "execution_count": 1,
   "metadata": {
    "id": "3eFgfGN4gLe_"
   },
   "outputs": [
    {
     "name": "stdout",
     "output_type": "stream",
     "text": [
      "Requirement already satisfied: rdkit in /home/james_mctighe/miniconda3/envs/swe-molecular-sciences/lib/python3.10/site-packages (2023.9.2)\n",
      "Requirement already satisfied: numpy in /home/james_mctighe/miniconda3/envs/swe-molecular-sciences/lib/python3.10/site-packages (from rdkit) (1.23.5)\n",
      "Requirement already satisfied: Pillow in /home/james_mctighe/miniconda3/envs/swe-molecular-sciences/lib/python3.10/site-packages (from rdkit) (10.4.0)\n"
     ]
    }
   ],
   "source": [
    "!pip install rdkit"
   ]
  },
  {
   "cell_type": "code",
   "execution_count": 3,
   "metadata": {
    "id": "J95x_gw3etz_"
   },
   "outputs": [],
   "source": [
    "import itertools, math, os\n",
    "import numpy as np\n",
    "import matplotlib.pyplot as plt\n",
    "import pandas as pd\n",
    "import random\n",
    "import seaborn as sns\n",
    "\n",
    "from rdkit import Chem\n",
    "from rdkit.Chem import AllChem, ChemicalFeatures, DataStructs, MolToSmiles, PandasTools, rdFingerprintGenerator\n",
    "from rdkit.Chem.Scaffolds import MurckoScaffold\n",
    "from rdkit.ML.Cluster import Butina\n",
    "from rdkit.RDPaths import RDDataDir\n",
    "from sklearn.cluster import AgglomerativeClustering\n",
    "from scipy.cluster.hierarchy import dendrogram, linkage, fcluster\n",
    "from scipy.optimize import curve_fit\n",
    "from scipy.spatial.distance import cdist, pdist, squareform\n",
    "from tqdm import tqdm\n",
    "from typing import List, Tuple\n",
    "\n",
    "RANDOM_SEED = 42\n",
    "np.random.seed(RANDOM_SEED)\n",
    "\n",
    "colors = [\"#A20025\", \"#6C8EBF\"]\n",
    "sns.set_palette(sns.color_palette(colors))"
   ]
  },
  {
   "cell_type": "markdown",
   "metadata": {
    "id": "OpIeDw5Jetz_"
   },
   "source": [
    "## COVID Moonshot Campaign\n",
    "\n",
    "In this lab, we'll focus on an application stemming from the COVID Moonshot campaign [1]. The COVID Moonshot campaign is an open-science initiative to accelerate discovery of antiviral drugs targeting inhibition of the SARS-CoV-2 main protease (Mpro). Inhibition of Mpro prevents viral replication of SARS-CoV-2, with precedence for clinical success set by Paxlovid and Ensitrelvir [2,3]. The campaign used high-throughput screening (HTS) techniques to evaluate thousands of compounds with respect to Mpro inhibition, optimizing promising compounds through iterative cycles of design, synthesis, and testing.\n",
    "\n",
    "The COVID Moonshot incorporated many components, from crowdsourcing over 18,000 designs and judging those designs based on synthetic feasibility and estimated activity, to synthesizing over 2000 of those designs and conducting several types of high-throughput assays and crystallography experiments to determine their structure and viability as leads. We will focus solely on the set of 2,062 synthesized compounds whose IC50 was experimentally measured via HTS.\n",
    "\n",
    "IC50 is the concentration of a compound required to inhibit 50% of protein activity. Ideally, a compound is effective even at low concentrations to avoid undesired interactions with other proteins.\n"
   ]
  },
  {
   "cell_type": "markdown",
   "metadata": {
    "id": "rV-izBk_et0A"
   },
   "source": [
    "The following code loads in the data set, which we have already processed by:\n",
    "1. Computing Morgan fingerprints (2048 bits at radius of 2) for each compound\n",
    "2. Using a cut-off of 5 μM IC50, based on literature that we’ll discuss later, to define active and inactive compounds. Compounds that did not have a measured IC50 are still present in the data set but are labeled as \"Unknown.\""
   ]
  },
  {
   "cell_type": "markdown",
   "metadata": {
    "id": "ztVvKoYEZcrq"
   },
   "source": [
    "Make sure that you create a \"data\" folder and upload both files to the folder:\n",
    "- L02_activity_data.csv\n",
    "- L02_morgan_fingerprints.npy"
   ]
  },
  {
   "cell_type": "code",
   "execution_count": 4,
   "metadata": {
    "id": "-_jVmAx5et0B"
   },
   "outputs": [],
   "source": [
    "data = pd.read_csv('data/L02_activity_data.csv')\n",
    "fingerprints = np.load('data/L02_morgan_fingerprints.npy')\n",
    "label_names = {1:'Active', 2:'Inactive', 3:'Unknown'}"
   ]
  },
  {
   "cell_type": "code",
   "execution_count": 5,
   "metadata": {
    "id": "ZDNbLF_Cet0C"
   },
   "outputs": [
    {
     "data": {
      "text/html": [
       "<div>\n",
       "<style scoped>\n",
       "    .dataframe tbody tr th:only-of-type {\n",
       "        vertical-align: middle;\n",
       "    }\n",
       "\n",
       "    .dataframe tbody tr th {\n",
       "        vertical-align: top;\n",
       "    }\n",
       "\n",
       "    .dataframe thead th {\n",
       "        text-align: right;\n",
       "    }\n",
       "</style>\n",
       "<table border=\"1\" class=\"dataframe\">\n",
       "  <thead>\n",
       "    <tr style=\"text-align: right;\">\n",
       "      <th></th>\n",
       "      <th>SMILES</th>\n",
       "      <th>CID</th>\n",
       "      <th>canonical_CID</th>\n",
       "      <th>r_inhibition_at_20_uM</th>\n",
       "      <th>r_inhibition_at_50_uM</th>\n",
       "      <th>r_avg_IC50</th>\n",
       "      <th>f_inhibition_at_20_uM</th>\n",
       "      <th>f_inhibition_at_50_uM</th>\n",
       "      <th>f_avg_IC50</th>\n",
       "      <th>f_avg_pIC50</th>\n",
       "      <th>relative_solubility_at_20_uM</th>\n",
       "      <th>relative_solubility_at_100_uM</th>\n",
       "      <th>trypsin_IC50</th>\n",
       "      <th>NMR_std_ratio</th>\n",
       "      <th>acrylamide</th>\n",
       "      <th>chloroacetamide</th>\n",
       "      <th>series</th>\n",
       "      <th>frag_id</th>\n",
       "      <th>Morgan_Fingerprint</th>\n",
       "      <th>label</th>\n",
       "    </tr>\n",
       "  </thead>\n",
       "  <tbody>\n",
       "    <tr>\n",
       "      <th>0</th>\n",
       "      <td>CCNC(=O)CN1CC2(CCN(c3cncc4ccccc34)C2=O)c2cc(Cl...</td>\n",
       "      <td>LUO-POS-e1dab717-11</td>\n",
       "      <td>LUO-POS-e1dab717-11</td>\n",
       "      <td>NaN</td>\n",
       "      <td>NaN</td>\n",
       "      <td>NaN</td>\n",
       "      <td>NaN</td>\n",
       "      <td>NaN</td>\n",
       "      <td>0.275118</td>\n",
       "      <td>NaN</td>\n",
       "      <td>NaN</td>\n",
       "      <td>NaN</td>\n",
       "      <td>NaN</td>\n",
       "      <td>NaN</td>\n",
       "      <td>False</td>\n",
       "      <td>False</td>\n",
       "      <td>3-aminopyridine-like</td>\n",
       "      <td>NaN</td>\n",
       "      <td>&lt;rdkit.DataStructs.cDataStructs.ExplicitBitVec...</td>\n",
       "      <td>2</td>\n",
       "    </tr>\n",
       "    <tr>\n",
       "      <th>1</th>\n",
       "      <td>O=C(CN1CC2(CCN(c3cncc4ccccc34)C2=O)c2cc(Cl)ccc...</td>\n",
       "      <td>LUO-POS-e1dab717-12</td>\n",
       "      <td>LUO-POS-e1dab717-12</td>\n",
       "      <td>NaN</td>\n",
       "      <td>NaN</td>\n",
       "      <td>NaN</td>\n",
       "      <td>NaN</td>\n",
       "      <td>NaN</td>\n",
       "      <td>0.202767</td>\n",
       "      <td>NaN</td>\n",
       "      <td>NaN</td>\n",
       "      <td>NaN</td>\n",
       "      <td>NaN</td>\n",
       "      <td>NaN</td>\n",
       "      <td>False</td>\n",
       "      <td>False</td>\n",
       "      <td>3-aminopyridine-like</td>\n",
       "      <td>NaN</td>\n",
       "      <td>&lt;rdkit.DataStructs.cDataStructs.ExplicitBitVec...</td>\n",
       "      <td>2</td>\n",
       "    </tr>\n",
       "    <tr>\n",
       "      <th>2</th>\n",
       "      <td>CNC(=O)C1(N2C[C@]3(CCN(c4cncc5ccccc45)C3=O)c3c...</td>\n",
       "      <td>MAT-POS-e48723dc-1</td>\n",
       "      <td>MAT-POS-e48723dc-1</td>\n",
       "      <td>NaN</td>\n",
       "      <td>NaN</td>\n",
       "      <td>NaN</td>\n",
       "      <td>NaN</td>\n",
       "      <td>NaN</td>\n",
       "      <td>55.453947</td>\n",
       "      <td>NaN</td>\n",
       "      <td>NaN</td>\n",
       "      <td>NaN</td>\n",
       "      <td>NaN</td>\n",
       "      <td>NaN</td>\n",
       "      <td>False</td>\n",
       "      <td>False</td>\n",
       "      <td>Ugi</td>\n",
       "      <td>NaN</td>\n",
       "      <td>&lt;rdkit.DataStructs.cDataStructs.ExplicitBitVec...</td>\n",
       "      <td>1</td>\n",
       "    </tr>\n",
       "    <tr>\n",
       "      <th>3</th>\n",
       "      <td>CNC(=O)C1(N2C[C@@]3(CCN(c4cncc5ccccc45)C3=O)c3...</td>\n",
       "      <td>MAT-POS-e48723dc-2</td>\n",
       "      <td>MAT-POS-e48723dc-2</td>\n",
       "      <td>NaN</td>\n",
       "      <td>NaN</td>\n",
       "      <td>NaN</td>\n",
       "      <td>NaN</td>\n",
       "      <td>NaN</td>\n",
       "      <td>0.050000</td>\n",
       "      <td>NaN</td>\n",
       "      <td>NaN</td>\n",
       "      <td>NaN</td>\n",
       "      <td>NaN</td>\n",
       "      <td>NaN</td>\n",
       "      <td>False</td>\n",
       "      <td>False</td>\n",
       "      <td>Ugi</td>\n",
       "      <td>NaN</td>\n",
       "      <td>&lt;rdkit.DataStructs.cDataStructs.ExplicitBitVec...</td>\n",
       "      <td>2</td>\n",
       "    </tr>\n",
       "    <tr>\n",
       "      <th>4</th>\n",
       "      <td>CNC(=O)CN1C[C@@]2(CCN(c3cncc4ccccc34)C2=O)c2cc...</td>\n",
       "      <td>LUO-POS-9931618f-2</td>\n",
       "      <td>LUO-POS-9931618f-2</td>\n",
       "      <td>NaN</td>\n",
       "      <td>NaN</td>\n",
       "      <td>NaN</td>\n",
       "      <td>NaN</td>\n",
       "      <td>NaN</td>\n",
       "      <td>0.052757</td>\n",
       "      <td>NaN</td>\n",
       "      <td>NaN</td>\n",
       "      <td>NaN</td>\n",
       "      <td>NaN</td>\n",
       "      <td>NaN</td>\n",
       "      <td>False</td>\n",
       "      <td>False</td>\n",
       "      <td>Ugi</td>\n",
       "      <td>NaN</td>\n",
       "      <td>&lt;rdkit.DataStructs.cDataStructs.ExplicitBitVec...</td>\n",
       "      <td>2</td>\n",
       "    </tr>\n",
       "  </tbody>\n",
       "</table>\n",
       "</div>"
      ],
      "text/plain": [
       "                                              SMILES                  CID  \\\n",
       "0  CCNC(=O)CN1CC2(CCN(c3cncc4ccccc34)C2=O)c2cc(Cl...  LUO-POS-e1dab717-11   \n",
       "1  O=C(CN1CC2(CCN(c3cncc4ccccc34)C2=O)c2cc(Cl)ccc...  LUO-POS-e1dab717-12   \n",
       "2  CNC(=O)C1(N2C[C@]3(CCN(c4cncc5ccccc45)C3=O)c3c...   MAT-POS-e48723dc-1   \n",
       "3  CNC(=O)C1(N2C[C@@]3(CCN(c4cncc5ccccc45)C3=O)c3...   MAT-POS-e48723dc-2   \n",
       "4  CNC(=O)CN1C[C@@]2(CCN(c3cncc4ccccc34)C2=O)c2cc...   LUO-POS-9931618f-2   \n",
       "\n",
       "         canonical_CID  r_inhibition_at_20_uM  r_inhibition_at_50_uM  \\\n",
       "0  LUO-POS-e1dab717-11                    NaN                    NaN   \n",
       "1  LUO-POS-e1dab717-12                    NaN                    NaN   \n",
       "2   MAT-POS-e48723dc-1                    NaN                    NaN   \n",
       "3   MAT-POS-e48723dc-2                    NaN                    NaN   \n",
       "4   LUO-POS-9931618f-2                    NaN                    NaN   \n",
       "\n",
       "   r_avg_IC50  f_inhibition_at_20_uM  f_inhibition_at_50_uM  f_avg_IC50  \\\n",
       "0         NaN                    NaN                    NaN    0.275118   \n",
       "1         NaN                    NaN                    NaN    0.202767   \n",
       "2         NaN                    NaN                    NaN   55.453947   \n",
       "3         NaN                    NaN                    NaN    0.050000   \n",
       "4         NaN                    NaN                    NaN    0.052757   \n",
       "\n",
       "   f_avg_pIC50  relative_solubility_at_20_uM  relative_solubility_at_100_uM  \\\n",
       "0          NaN                           NaN                            NaN   \n",
       "1          NaN                           NaN                            NaN   \n",
       "2          NaN                           NaN                            NaN   \n",
       "3          NaN                           NaN                            NaN   \n",
       "4          NaN                           NaN                            NaN   \n",
       "\n",
       "   trypsin_IC50  NMR_std_ratio acrylamide chloroacetamide  \\\n",
       "0           NaN            NaN      False           False   \n",
       "1           NaN            NaN      False           False   \n",
       "2           NaN            NaN      False           False   \n",
       "3           NaN            NaN      False           False   \n",
       "4           NaN            NaN      False           False   \n",
       "\n",
       "                 series frag_id  \\\n",
       "0  3-aminopyridine-like     NaN   \n",
       "1  3-aminopyridine-like     NaN   \n",
       "2                   Ugi     NaN   \n",
       "3                   Ugi     NaN   \n",
       "4                   Ugi     NaN   \n",
       "\n",
       "                                  Morgan_Fingerprint  label  \n",
       "0  <rdkit.DataStructs.cDataStructs.ExplicitBitVec...      2  \n",
       "1  <rdkit.DataStructs.cDataStructs.ExplicitBitVec...      2  \n",
       "2  <rdkit.DataStructs.cDataStructs.ExplicitBitVec...      1  \n",
       "3  <rdkit.DataStructs.cDataStructs.ExplicitBitVec...      2  \n",
       "4  <rdkit.DataStructs.cDataStructs.ExplicitBitVec...      2  "
      ]
     },
     "execution_count": 5,
     "metadata": {},
     "output_type": "execute_result"
    }
   ],
   "source": [
    "data.head()"
   ]
  },
  {
   "cell_type": "markdown",
   "metadata": {
    "id": "JfNC6hgOet0C"
   },
   "source": [
    "## High Throughput Screening (HTS) Data\n",
    "\n",
    "In this scenario, we want to identify a new antiviral that can stop COVID-19. With advancements in robotic and miniaturization techniques, HTS is capable of handling a high volume of thousands of tiny tests at once and in an automated fashion. In early stages of HTS, single-shot inhibition data provides a quick assessment of each compound’s activity against the target. A single concentration, which is relatively high to maximize the chance of detecting any inhibition, is selected. Each compound from a large library of compounds is tested at this concentration, and the inhibition of the target’s activity is measured. Compounds that exhibit significant inhibition at the single concentration are flagged as potential hits for follow-up studies.\n",
    "\n",
    "If resource and time requirements permit, we can measure each compound’s activity at multiple concentrations to construct dose response curves. Dose response curves plot the compound’s inhibitory activity on the target against different concentrations of the compound, from which we can determine key parameters such as IC50. For example, the COVID Moonshot program determined IC50 from dose response curves that used an 11-point range of 100—0.0017 µM inhibitor concentrations, ensuring that both high and low efficacy could be measured.\n",
    "\n",
    "To determine the IC50 for each compound, the Moonshot program used the Levenberg-Marquardt algorithm to fit a restrained Hill equation to each compound’s dose response curve. Let’s break these concepts down. The Hill equation is a mathematical model to describe the relationship between the compound’s concentration and the expected response:\n",
    "\n",
    "$E=\\frac{(E_{max} [I]^n)}{(IC_{50}^n+[I]^n)}$\n",
    "\n",
    "- $E$ is the observed response.\n",
    "- $E_{max}$  is the maximum response.\n",
    "- $[I]$ is the concentration of the compound.\n",
    "- $IC_{50}$ is the concentration at which the response is half of $E_{max}$.\n",
    "- $n$ is the Hill coefficient, which describes the slope of the curve.\n"
   ]
  },
  {
   "cell_type": "markdown",
   "metadata": {
    "id": "PcUNTulwet0D"
   },
   "source": [
    "We can use the Levenberg-Marquardt algorithm to fit a non-linear model of our HTS data. In the context of the Hill equation, the Levenberg-Marquardt algorithm is useful since it accounts for the non-linear nature of the dose-response relationship. At a high-level, we start with initial guesses for the parameters in the Hill equation ($E_{max}$, $[I]$, $n$) and we iteratively adjust the parameters to minimize the error between the observed data points and the model’s predictions via a combination of gradient descent and the Gauss-Newton method. A restrained fit means that certain parameters are kept within specified, realistic bounds to ensure that the resultant IC50 value is reliable and biologically meaningful."
   ]
  },
  {
   "cell_type": "markdown",
   "metadata": {
    "id": "4QohAin5et0D"
   },
   "source": [
    "### Exercise 1: Levenberg-Marquardt Algorithm\n",
    "\n",
    "The following code block will plot a figure that demonstrates the sigmoidal shape common to dose-response curves, a fitted Hill equation, and which point on the fitted curve corresponds to the IC50 value. This figure is based on an arbitrary, toy data set.\n",
    "\n",
    "Your task is to complete the missing sections of the code block (where a `TODO` comment is present). Once you have added the correct code, it will output the same figure as shown here:\n",
    "\n",
    "![UN01](https://github.com/nrflynn2/swe-molecular-sciences/blob/main/figures/L02_UN01_Flynn.png?raw=1)"
   ]
  },
  {
   "cell_type": "markdown",
   "metadata": {
    "id": "MtMbwB9jet0D"
   },
   "source": [
    "### Student Solution to Exercise 1\n",
    "\n",
    "Provide your solution to the above exercise in this cell and/or immediately following cells."
   ]
  },
  {
   "cell_type": "code",
   "execution_count": 7,
   "metadata": {
    "id": "Y41-07rbet0E"
   },
   "outputs": [
    {
     "name": "stdout",
     "output_type": "stream",
     "text": [
      "Fitted parameters:\n",
      "E_max: 93.38453452098555\n",
      "IC50: 0.07799836456865863\n",
      "Hill coefficient (n): 0.6707229453904519\n"
     ]
    },
    {
     "data": {
      "image/png": "[encoded data removed]",
      "text/plain": [
       "<Figure size 800x600 with 1 Axes>"
      ]
     },
     "metadata": {},
     "output_type": "display_data"
    }
   ],
   "source": [
    "# Synthetic dose-response data\n",
    "concentrations = np.array([0.0017, 0.005, 0.01, 0.03, 0.1, 0.3, 1, 3, 10, 30, 100])  # in µM\n",
    "responses = np.array([5, 10, 20, 35, 50, 65, 80, 85, 90, 92, 93])  # arbitrary units, % inhibition for example\n",
    "\n",
    "# Initial guesses for E_max, IC50, and Hill coefficient (n)\n",
    "initial_guesses = [100, 1, 1]\n",
    "\n",
    "# Constraints: E_max between 0 and 100, IC50 between 0 and 100, n between 0.1 and 3\n",
    "param_bounds = ([0, 0, 0.1], [100, 100, 3])\n",
    "\n",
    "# Hill equation function\n",
    "def hill_equation(conc, E_max, IC50, n):\n",
    "    \"\"\"\n",
    "    Calculate response using the Hill equation\n",
    "    conc: drug concentration\n",
    "    E_max: maximum effect\n",
    "    IC50: concentration producing 50% of max effect\n",
    "    n: Hill coefficient (steepness)\n",
    "    \"\"\"\n",
    "    e = (E_max * (conc ** n)) / ((IC50 ** n) + (conc ** n))\n",
    "    # TODO: Implement the Hill hill_equation\n",
    "    return e\n",
    "    \n",
    "\n",
    "\n",
    "# Fit the Hill equation to the data using the Levenberg-Marquardt algorithm\n",
    "popt, pcov = curve_fit(hill_equation, concentrations, responses,\n",
    "                      p0=initial_guesses,\n",
    "                      bounds=param_bounds,\n",
    "                      method='trf')\n",
    "\n",
    "# Extract the optimal parameters\n",
    "E_max_opt, IC50_opt, n_opt = popt\n",
    "\n",
    "# Generate data for the fitted curve, then plot it\n",
    "concentration_range = np.logspace(np.log10(concentrations.min()), np.log10(concentrations.max()), 100)\n",
    "fitted_responses = hill_equation(concentration_range, *popt)\n",
    "\n",
    "plt.figure(figsize=(8, 6))\n",
    "plt.scatter(concentrations, responses, color='red', label='Experimental data')\n",
    "plt.plot(concentration_range, fitted_responses, label=f'Fitted curve\\n$E_{{max}}$={E_max_opt:.2f}, $IC50$={IC50_opt:.2f}, $n$={n_opt:.2f}')\n",
    "plt.xscale('log')\n",
    "plt.xlabel('Concentration (µM)')\n",
    "plt.ylabel('Response (% inhibition)')\n",
    "plt.title('Dose-Response Curve')\n",
    "plt.legend()\n",
    "plt.grid(True)\n",
    "\n",
    "# To get the IC50 response, return the output if hill_equation using a combination of the parameters IC50_opt, E_max_opt, IC50_op, and n_opt\n",
    "ic50_response = hill_equation(IC50_opt, E_max_opt, IC50_opt, n_opt)\n",
    "plt.axhline(y=ic50_response, color='blue', linestyle='--', label=f'IC50={IC50_opt:.2f} µM')\n",
    "plt.axvline(x=IC50_opt, color='blue', linestyle='--')\n",
    "plt.annotate(f'IC50={IC50_opt:.2f} µM',\n",
    "             xy=(IC50_opt, ic50_response),\n",
    "             xytext=(IC50_opt*2, ic50_response+10),\n",
    "             arrowprops=dict(facecolor='black', shrink=0.05))\n",
    "\n",
    "plt.legend()\n",
    "plt.tight_layout()\n",
    "\n",
    "print(f\"Fitted parameters:\\nE_max: {E_max_opt}\\nIC50: {IC50_opt}\\nHill coefficient (n): {n_opt}\")"
   ]
  },
  {
   "cell_type": "markdown",
   "metadata": {
    "id": "kmrEqhwJet0E"
   },
   "source": [
    "HTS presents a high volume of data at our doorstep, but with additional confounders in the form of greater levels of experimental noise and greater diversity in the chemical structures within the compound library. We'd like to extrapolate the HTS data on these compounds to novel compounds. In the next section, we'll consider a few approaches to generating a compound library with novel compounds."
   ]
  },
  {
   "cell_type": "markdown",
   "metadata": {
    "id": "XKwuP1pXet0E"
   },
   "source": [
    "## Curating Diverse Compound Libraries"
   ]
  },
  {
   "cell_type": "markdown",
   "metadata": {
    "id": "OarH89GMet0F"
   },
   "source": [
    "In lab 1, we used the similar property principle to search for compounds within a screening library that had high structural similar to known antimalarial compounds, with the hope that such compounds would exhibit similar antimalarial properties. In this section, we’ll consider how similarity, and diversity, play fundamental roles in the design of compound libraries."
   ]
  },
  {
   "cell_type": "markdown",
   "metadata": {
    "id": "Q4yMVz4Xet0F"
   },
   "source": [
    "### Diversity and Focus\n",
    "\n",
    "The concept of creating representative sets of compounds is a critical strategy in the pharmaceutical industry. Consider a scenario where we have conducted a virtual screening campaign but have limited resources to experimentally test only a few compounds in a confirmatory assay. To maximize the information obtained from this screen, we select a diverse set of compounds. This might mean picking one representative from each chemical series in our list of potentially active compounds, ensuring that the selected compounds span the broadest range of chemical diversity.\n",
    "\n",
    "Alternatively, we might focus on a single chemical series to delve into the structure-activity relationship within that series. By systematically testing compounds within the same series, we can gain detailed insights into how small structural changes drive biological activity, thus informing future optimization and development efforts. When designing compound libraries, we strike a balance between diversity and focus:\n",
    "\n",
    "  - Diversity, i.e., maximizing exploration: More structurally diverse libraries provide greater coverage over the expanse of chemical space that we want to explore, maximizing the number of compounds with different activities and minimizing the number of redundant compounds with similar activities. We place greater emphasis on diversity when we expect our compound library to be used to screen against a broad set of biological targets or when we don’t have much prior information about the therapeutic target of interest.\n",
    "  - Focus, i.e., maximizing exploitation: Focused libraries restrict our navigation of chemical space to a narrower region. We place greater emphasis on focused libraries when we know more about the downstream use case, incorporating as much information about the therapeutic target (such as its 3D structure, if available) to maximize our hit rate. Focused libraries provide higher hit rates, but these starting points may have greater redundancy in activity or function.\n",
    "\n",
    "There is not a single, authoritative definition or quantification of chemical diversity. There are many methods for assessing the internal diversity of the molecules in our library, as well as the diversity of those molecules compared to external data sets from prior screens. We can quantify diversity as a function of any molecular descriptors or scaffolds, and how we measure diversity will also impact how we sample which molecules are to be included in the library.\n",
    "\n",
    "Once we’ve settled on which descriptors we want to use to characterize our molecules and how we want to measure the aggregate diversity of the molecules we are considering, we can construct each subset of size K from the total number of molecules, N, that we are considering, measure each subset’s diversity, and keep the subset with greatest diversity. If we want to construct a library of 100 molecules from an initial set of 500 molecules, we’d need to evaluate ${N \\choose K}={500 \\choose 100}=2*10^{107}$ subsets. This is not realistic.\n",
    "\n",
    "Later in this lab, we'll lean on machine learning to help resolve this sampling problem. Note that you aren't expected to know the mechanics of how any machine learning algorithms work, we are just using them to move the lab forward!\n"
   ]
  },
  {
   "cell_type": "markdown",
   "metadata": {
    "id": "zSnl3AyPet0F"
   },
   "source": [
    "### Molecular Fragments\n",
    "\n",
    "Before we can select a diverse subset of compounds, we have to establish the data source that these compounds are being selected from. Such data sources, typically large compound libraries, do not have to be pre-existing collections like the Specs library from lab 1. In the present, we’ll cover two classic approaches used to construct synthetic compound libraries, from which we can use as a basis to sample a diverse subset of compounds. If you find this subject interesting, you may want to explore the use of generative ML models to create synthetic compound libraries outside of this class.\n",
    "\n",
    "The two classic approaches we will cover rely on understanding what a molecular fragment is. When we use the term “molecular fragment,” we are typically referring to a scaffold or an R-group. During drug design, medicinal chemists might identify a scaffold, or core, of their compounds that is essential to achieve the desired pharmacological effect. Compounds with the same scaffold often constitute a chemical series.\n",
    "\n",
    "![UN02](https://github.com/nrflynn2/swe-molecular-sciences/blob/main/figures/L02_UN02_Flynn.svg?raw=1)"
   ]
  },
  {
   "cell_type": "markdown",
   "metadata": {
    "id": "frgZhn5ket0G"
   },
   "source": [
    "During optimization, the scaffold is typically kept constant while the substituents attached to the scaffold (the R-groups) are varied to improve the compound’s properties. Different R-groups can be attached to the same scaffold to create a library of analogs, which we can also use to explore how structural modifications to the compound affect its activity. This process is referred to as scaffold decoration.\n",
    "\n",
    "In some cases, fundamental flaws inherent to the scaffold core arise, such as toxicity or patentability concerns. Scaffold hopping involves identifying entirely new scaffolds that exhibit similar biological activity as our current scaffold, while obviating their limitations. Note that we exchange the entire scaffold of the molecule while preserving the R-groups that were originally attached to it. Searching for alternative, novel scaffolds is harder than just adjusting the R-groups. From a modeling perspective, we must also consider that models exposed only to compounds with the old scaffold may not translate to reliable predictions on compounds with the new scaffold.\n",
    "\n",
    "One application of scaffold hopping is to resolve intellectual property issues in drug repurposing. The original patent holders may have exclusive rights to the drug being repurposed, which can complicate IP ownership unless new patents for new indications can be obtained. If this interests you, check out Markush structures, which is a representation in chemical patents and IP claims that defines a broad class of chemical compounds by specifying variable parts of a molecule, allowing for the inclusion of multiple possible substituents or structural variations."
   ]
  },
  {
   "cell_type": "markdown",
   "metadata": {
    "id": "qCobsbbIet0I"
   },
   "source": [
    "### Retrosynthetic Library Design"
   ]
  },
  {
   "cell_type": "markdown",
   "metadata": {
    "id": "4rcF5P7Get0I"
   },
   "source": [
    "The COVID Moonshot project’s methodology was primarily concerned with developing a therapeutic as quickly as possible. In an (at the time) on-going pandemic, speed matters! Their aim was to make as many different ideas as possible for experimental follow ups, and so they prioritized compounds that could be rapidly synthesized by using ML to design synthetic schemes with uncertainty estimates.\n",
    "\n",
    "Retrosynthetic library design safeguards against generation of compounds that are not synthesizable by baking in consideration of synthetic feasibility. We can use RDKit’s BRICS (Breaking of Retrosynthetically Interesting Chemical Substructures) module to both fragment compounds and generate new compounds by recombining these fragments based on common chemical reaction rules. Now we will construct a compound library based on retrosynethic library design. We will then use a model to screen against these synthetically generated compounds."
   ]
  },
  {
   "cell_type": "code",
   "execution_count": 8,
   "metadata": {
    "id": "COex4OMiet0I"
   },
   "outputs": [],
   "source": [
    "from rdkit.Chem import BRICS\n",
    "\n",
    "data['mols'] = data['SMILES'].apply(Chem.MolFromSmiles)\n",
    "frags = set([])\n",
    "for mol in data['mols']:\n",
    "    if mol is None: continue\n",
    "    fragments = BRICS.BRICSDecompose(mol)    #A\n",
    "    frags.update(fragments)\n",
    "\n",
    "frag_mols = []\n",
    "for frag in frags:\n",
    "    frag_mol = Chem.MolFromSmiles(frag)\n",
    "    if frag_mol:\n",
    "        AllChem.Compute2DCoords(frag_mol)\n",
    "        frag_mols.append(frag_mol)\n",
    "\n",
    "rld_new_mols = []\n",
    "for mol in BRICS.BRICSBuild(frag_mols, maxDepth=1):    #B\n",
    "    if len(rld_new_mols) > 10000:    #C\n",
    "        break\n",
    "    try:\n",
    "        Chem.SanitizeMol(mol)\n",
    "        AllChem.Compute2DCoords(mol)\n",
    "        rld_new_mols.append(mol)\n",
    "    except:\n",
    "        continue    #D\n",
    "#A Decompose molecules into BRICS fragments and store unique fragments.\n",
    "#B Call generator to build new molecules from the BRICS fragments with maximum depth of 1. The maximum depth corresponds to the number of reaction steps allowed to reach the new molecule.\n",
    "#C Maximum depth greater than 3 will explode the number of potential molecules. Even with a depth of 1, we break early for convenience.\n",
    "#D Skip molecules that cannot be sanitized.\n"
   ]
  },
  {
   "cell_type": "markdown",
   "metadata": {
    "id": "u_C9Nw6Ret0J"
   },
   "source": [
    "### Exercise 2: Combinatorial & Retrosynthetic Library Design\n",
    "\n",
    "Finish the implementation of a basic retrosynthetic analysis function that suggests possible precursors for a given string.\n",
    "\n",
    "Test cases are provided to illustrate example inputs and outputs."
   ]
  },
  {
   "cell_type": "markdown",
   "metadata": {
    "id": "Ljj5tLQdet0J"
   },
   "source": [
    "### Student Solution to Exercise 2\n",
    "\n",
    "Provide your solution to the above exercise in this cell and/or immediately following cells."
   ]
  },
  {
   "cell_type": "code",
   "execution_count": 11,
   "metadata": {
    "id": "CBE7thMwet0J"
   },
   "outputs": [],
   "source": [
    "def retrosynthetic_analysis(molecule):\n",
    "    # TODO: your implementation\n",
    "      \"\"\"\n",
    "      Performs a simplified retrosynthetic analysis on a given molecule string.\n",
    "      Returns all possible two-fragment combinations that could form the target molecule.\n",
    "\n",
    "      Args:\n",
    "          molecule (str): A string representing the target molecule\n",
    "\n",
    "      Returns:\n",
    "          list: A list of tuples, where each tuple contains two strings representing\n",
    "                possible precursor fragments (A, B) that could form the target molecule\n",
    "        \n",
    "      Example:\n",
    "          >>> retrosynthetic_analysis(\"ABC\")\n",
    "          [('A', 'BC'), ('AB', 'C')]\n",
    "      \"\"\"\n",
    "      if not molecule or len(molecule) < 2:\n",
    "          return []\n",
    "\n",
    "      # Generate all possible two-fragment combinations\n",
    "      precursors = []\n",
    "\n",
    "      # Iterate through all possible splitting points\n",
    "      for i in range(1, len(molecule)):\n",
    "          # Split molecule into two fragments\n",
    "          fragment1 = molecule[0:i]\n",
    "          fragment2 = molecule[i:]\n",
    "\n",
    "          # Add the precursor combination to our list\n",
    "          precursors.append((fragment1, fragment2))\n",
    "\n",
    "      return precursors"
   ]
  },
  {
   "cell_type": "code",
   "execution_count": 12,
   "metadata": {
    "id": "JFdY8JJZfgRP"
   },
   "outputs": [
    {
     "name": "stdout",
     "output_type": "stream",
     "text": [
      "All test cases passed!\n"
     ]
    }
   ],
   "source": [
    "    # Test case 1: Basic splitting\n",
    "assert retrosynthetic_analysis(\"ABC\") == [('A', 'BC'), ('AB', 'C')], \"Test case 1 failed\"\n",
    "\n",
    "# Test case 2: Empty string\n",
    "assert retrosynthetic_analysis(\"\") == [], \"Test case 2 failed\"\n",
    "\n",
    "# Test case 3: Single character\n",
    "assert retrosynthetic_analysis(\"A\") == [], \"Test case 3 failed\"\n",
    "\n",
    "# Test case 4: Two characters\n",
    "assert retrosynthetic_analysis(\"AB\") == [('A', 'B')], \"Test case 4 failed\"\n",
    "\n",
    "# Test case 5: Longer string\n",
    "assert retrosynthetic_analysis(\"ABCD\") == [\n",
    "    ('A', 'BCD'),\n",
    "    ('AB', 'CD'),\n",
    "    ('ABC', 'D')\n",
    "], \"Test case 5 failed\"\n",
    "\n",
    "print(\"All test cases passed!\")"
   ]
  },
  {
   "cell_type": "markdown",
   "metadata": {
    "id": "NB6nfxHGet0K"
   },
   "source": [
    "## An Introduction to Clustering"
   ]
  },
  {
   "cell_type": "markdown",
   "metadata": {
    "id": "zfK3qrLcet0K"
   },
   "source": [
    "In this section, we will explore an important category of unsupervised machine learning models: clustering algorithms. Clustering algorithms can be used to produce an optimal division of our compound library into different clusters, where compounds within a cluster are more similar to each other than to compounds in other clusters.\n",
    "\n",
    "In clustering, our model segments the data into similar subsets (where each subset is a cluster). The clustering model learns its own definition of classes, such that each cluster corresponds to a different class, and it learns which cluster to assign each data instance to.\n",
    "\n",
    "One or more representative compounds can then be selected from each cluster to form our final, diverse compound library. Key aspects of cluster-based compound selection include:\n",
    "\n",
    "1.\tHow we choose to represent the compounds, e.g., descriptors or fingerprints.\n",
    "2.\tWhat metric we use to assess the distance between each compound, given its representation.\n",
    "3.\tOur choice of clustering algorithm to segment the compounds.\n",
    "4.\tHow we select a subset of compounds from each cluster depending on our problem requirements.\n",
    "\n",
    "For simplicity, we’ll default to Morgan fingerprints of radius 2 and we’ll use the Tanimoto similarity coefficient, which we can use as a distance by subtracting the similarity coefficient from 1. A popular clustering algorithm for cheminformatics applications is Taylor-Butina clustering. We'll use both Taylor-Butina clustering and agglomerative clustering throughout the next section of the lab. The details of Taylor-Butina clustering and agglomerative clustering are out-of-scope for this course. Below, we use agglomerative clustering and Taylor-Butina clustering to sample a subset of molecules from the retrosynthetically constructed library."
   ]
  },
  {
   "cell_type": "markdown",
   "metadata": {
    "id": "pNu4W29uet0L"
   },
   "source": [
    "The following code block defines useful functions for:\n",
    "1. Converting molecules to fingerprints\n",
    "    - The description by Butina for the Taylor-Butina clustering algorithm uses Daylight fingerprints, whose closest analog in the RDKit library is RDKit fingerprints of max path 5. This is why we use a different type of fingerprints.\n",
    "2. Sampling compounds from each cluster\n",
    "    - We will sample an equivalent number of compounds from each cluster to ensure that the sampled subset is representative of the original data set distribution. Within each cluster, we will sample the `n_samples` compounds that are closest to the cluster center, producing groupings of similar molecules within the sampled subset that will be easier for a downstream model to provide insights into structure-activity relationships.\n",
    "3. Taylor-Butina clustering"
   ]
  },
  {
   "cell_type": "code",
   "execution_count": 13,
   "metadata": {
    "id": "m85IDxdget0L"
   },
   "outputs": [],
   "source": [
    "# Convert RDKit molecules to Morgan fingerprints\n",
    "def molecules_to_fingerprints(mols, radius=2, nBits=2048):\n",
    "    rdkit_gen = rdFingerprintGenerator.GetRDKitFPGenerator(maxPath=5) # Daylight FP approximation\n",
    "    fingerprints = [rdkit_gen.GetFingerprint(mol) for mol in mols]\n",
    "\n",
    "    np_fps = []\n",
    "    for fp in fingerprints:\n",
    "        arr = np.zeros((1,))\n",
    "        DataStructs.ConvertToNumpyArray(fp, arr)\n",
    "        np_fps.append(arr)\n",
    "    return np.array(np_fps), fingerprints\n",
    "\n",
    "def sample_from_clusters(fps, clusters, n_samples=3):\n",
    "    sampled_mols = []\n",
    "    cluster_centers = []\n",
    "\n",
    "    for cluster in clusters:\n",
    "        if len(cluster) < n_samples:\n",
    "            sampled_mols.extend(cluster)\n",
    "        else:\n",
    "            cluster_fps = [fps[i] for i in cluster]\n",
    "            cluster_center = np.mean(cluster_fps, axis=0).reshape(1, -1)\n",
    "            cluster_centers.append(cluster_center)\n",
    "\n",
    "            distances = cdist(cluster_fps, cluster_center, metric='euclidean')\n",
    "            closest_indices = np.argsort(distances.flatten())[:n_samples]\n",
    "            sampled_mols.extend([cluster[i] for i in closest_indices])\n",
    "\n",
    "    return sampled_mols\n",
    "\n",
    "def butina_clustering(fingerprints, cutoff=0.2):\n",
    "    dists = []\n",
    "    nfps = len(fingerprints)\n",
    "    for i in range(1, nfps):\n",
    "        sims = DataStructs.BulkTanimotoSimilarity(fingerprints[i], fingerprints[:i])\n",
    "        dists.extend([1 - x for x in sims])\n",
    "    cluster_data = Butina.ClusterData(dists, nfps, cutoff, isDistData=True)\n",
    "    return cluster_data"
   ]
  },
  {
   "cell_type": "markdown",
   "metadata": {
    "id": "mP_uMAQdet0L"
   },
   "source": [
    "The next two code blocks fit agglomerative clustering and Taylor-Butina clustering models, respectively, and sample separate sets of compounds for each methodology. Each code block may take a couple of minutes."
   ]
  },
  {
   "cell_type": "code",
   "execution_count": 14,
   "metadata": {
    "id": "NOsbsuWLet0N"
   },
   "outputs": [],
   "source": [
    "fps, rdkit_fps = molecules_to_fingerprints(rld_new_mols)\n",
    "\n",
    "agg_model = AgglomerativeClustering(n_clusters=16, linkage='ward')\n",
    "agg_model.fit(fps)\n",
    "agg_clusters = [np.where(agg_model.labels_ == i)[0].tolist() for i in np.unique(agg_model.labels_)]\n",
    "\n",
    "agg_sampled_indices = sample_from_clusters(fps, agg_clusters)\n",
    "agg_sampled_molecules = [rld_new_mols[i] for i in agg_sampled_indices]"
   ]
  },
  {
   "cell_type": "code",
   "execution_count": 15,
   "metadata": {
    "id": "69Zd1RAdet0O"
   },
   "outputs": [],
   "source": [
    "clusters = butina_clustering(rdkit_fps, cutoff=0.4)\n",
    "cluster_labels = np.zeros(len(rld_new_mols))\n",
    "for cluster_id, cluster in enumerate(clusters):\n",
    "    for mol_id in cluster:\n",
    "        cluster_labels[mol_id] = cluster_id\n",
    "\n",
    "butina_sampled_indices = sample_from_clusters(fps, clusters)\n",
    "butina_sampled_molecules = [rld_new_mols[i] for i in butina_sampled_indices]\n"
   ]
  },
  {
   "cell_type": "markdown",
   "metadata": {
    "id": "YHX9O_GCet0O"
   },
   "source": [
    "### Exercise 3: Sorting in Taylor-Butina Clustering\n",
    "\n",
    "In Taylor-Butina clustering, the following steps play critical roles in the algorithms performance:\n",
    "1. Computing the pairwise similarity between all compounds.\n",
    "2. Calculting the number of neighbors for each compound, where a neighbor is defined as another compound with a similarity that is above a specified threshold.\n",
    "3. Sorting the compounds by their number of neighbors.\n",
    "\n",
    "In this exercise, we implement two key functions:\n",
    "1. tanimoto_similarity: Calculate the Tanimoto similarity between two binary fingerprints.\n",
    "2. merge_sort: Implement the merge sort algorithm to sort fingerprints by their number of neighbors.\n",
    "\n",
    "We then use these functions to analyze a set of molecular fingerprints.\n",
    "\n",
    "**Part 1: Tanimoto Similarity**\n",
    "\n",
    "Review the already implemented tanimoto_similarity function to calculate the similarity between two binary fingerprints.\n",
    "Recall that Tanimoto similarity of two binary fingerprints is equal to: (intersection of bits) / (union of bits)\n",
    "\n",
    "**Part 2: Merge Sort**\n",
    "\n",
    "Implement the merge_sort function to sort fingerprints by their number of neighbors in descending order.\n",
    "Hint: The merge function has already been implemented, which you can then use in the recursive merge_sort function.\n",
    "\n",
    "**Part 3: Analysis**\n",
    "\n",
    "Use your implemented functions to analyze the given set of molecular fingerprints by combining the Tanimoto similarity calculation with sorting. Specifically, calculate the number of neighbors for each fingerprint and sort them using your merge sort function. This functionality is already implemented for you.\n"
   ]
  },
  {
   "cell_type": "markdown",
   "metadata": {
    "id": "qUfr4B-_et0P"
   },
   "source": [
    "### Student Solution to Exercise 3\n",
    "\n",
    "Provide your solution to the above exercise in this cell and/or immediately following cells."
   ]
  },
  {
   "cell_type": "code",
   "execution_count": 22,
   "metadata": {
    "id": "AT1fwfPHet0P"
   },
   "outputs": [],
   "source": [
    "import random\n",
    "\n",
    "# Helper function to generate random fingerprints of a more manageable length\n",
    "def generate_fingerprint(length=64):\n",
    "    return ''.join(random.choice('01') for _ in range(length))\n",
    "\n",
    "# Part 1: Implement Tanimoto Similarity\n",
    "def tanimoto_similarity(fp1, fp2):\n",
    "    \"\"\"\n",
    "    Calculate the Tanimoto similarity between two binary fingerprints.\n",
    "\n",
    "    :param fp1: First fingerprint (string of '0's and '1's)\n",
    "    :param fp2: Second fingerprint (string of '0's and '1's)\n",
    "    :return: Tanimoto similarity (float between 0 and 1)\n",
    "    \"\"\"\n",
    "    if len(fp1) != len(fp2):\n",
    "      raise ValueError(\"Fingerprints must be of equal length\")\n",
    "\n",
    "    # Convert binary strings to sets of indices where bits are 1\n",
    "    set1 = set(i for i, bit in enumerate(fp1) if bit == '1')\n",
    "    set2 = set(i for i, bit in enumerate(fp2) if bit == '1')\n",
    "\n",
    "    # Calculate intersection and union\n",
    "    intersection = len(set1 & set2)\n",
    "    union = len(set1 | set2)\n",
    "\n",
    "    # Handle edge case where both fingerprints are all zeros\n",
    "    if union == 0:\n",
    "        return 1.0 if fp1 == fp2 else 0.0\n",
    "\n",
    "    return intersection / union\n",
    "\n",
    "# Part 2: Implement Merge Sort\n",
    "def merge(left, right, key_func):\n",
    "    \"\"\"\n",
    "    Merge two sorted lists into a single sorted list.\n",
    "\n",
    "    :param left: Left sorted list\n",
    "    :param right: Right sorted list\n",
    "    :param key_func: Function to compute the sort key\n",
    "    :return: Merged sorted list\n",
    "    \"\"\"\n",
    "    result = []\n",
    "    i = j = 0\n",
    "\n",
    "    while i < len(left) and j < len(right):\n",
    "        if key_func(left[i]) >= key_func(right[j]):\n",
    "            result.append(left[i])\n",
    "            i += 1\n",
    "        else:\n",
    "            result.append(right[j])\n",
    "            j += 1\n",
    "\n",
    "    # Add remaining elements\n",
    "    result.extend(left[i:])\n",
    "    result.extend(right[j:])\n",
    "    return result\n",
    "\n",
    "def merge_sort(arr, key_func):\n",
    "    \"\"\"\n",
    "    Sort the given array using the merge sort algorithm.\n",
    "\n",
    "    :param arr: Array to be sorted\n",
    "    :param key_func: Function to compute the sort key\n",
    "    :return: Sorted array\n",
    "    \"\"\"\n",
    "    # TODO: Implement merge sort algorithm\n",
    "    # Base case: arrays of length 0 or 1 are already sorted\n",
    "    if len(arr) <=1: return arr\n",
    "    \n",
    "    \n",
    "    # Split array into two halves\n",
    "    middle = len(arr) // 2\n",
    "    low = arr[0:middle]\n",
    "    high = arr[middle:]\n",
    "\n",
    "    # Recursively sort both halves\n",
    "    m_low = merge_sort(low, key_func)\n",
    "    m_high = merge_sort(high,key_func)\n",
    "    # Merge the sorted halves\n",
    "    sorted_arr = merge(m_low, m_high, key_func)\n",
    "    return sorted_arr\n",
    "\n",
    "\n",
    "# Part 3: Analysis\n",
    "def analyze_fingerprints(fingerprints, similarity_threshold):\n",
    "    \"\"\"\n",
    "    Analyze the given fingerprints using Tanimoto similarity and sort them by number of neighbors.\n",
    "\n",
    "    :param fingerprints: List of fingerprints to analyze\n",
    "    :param similarity_threshold: Threshold for considering fingerprints as neighbors\n",
    "    :return: Sorted list of (fingerprint, neighbor_count) tuples\n",
    "    \"\"\"\n",
    "    neighbor_counts = []\n",
    "    for i, fp1 in enumerate(fingerprints):\n",
    "        count = sum(1 for j, fp2 in enumerate(fingerprints)\n",
    "                    if i != j and tanimoto_similarity(fp1, fp2) >= similarity_threshold)\n",
    "        neighbor_counts.append((fp1, count))\n",
    "\n",
    "    return merge_sort(neighbor_counts, key_func=lambda x: x[1])"
   ]
  },
  {
   "cell_type": "code",
   "execution_count": 23,
   "metadata": {
    "id": "80VmTpIAet0P"
   },
   "outputs": [
    {
     "name": "stdout",
     "output_type": "stream",
     "text": [
      "Fingerprints sorted by number of neighbors (similarity threshold: 0.7):\n",
      "Fingerprint: 1010010000011011111010100000100100010011000011111110111111000110, Neighbors: 0\n",
      "Fingerprint: 1001000011010111000011011100000110101110011000011010100111011000, Neighbors: 0\n",
      "Fingerprint: 0111101110011101110111111000000000010111000010100111111001010011, Neighbors: 0\n",
      "Fingerprint: 0110011100110011101110011000000110111101001100001010100101111001, Neighbors: 0\n",
      "Fingerprint: 1011000001000010100001101100010010110100101110011100110000110011, Neighbors: 0\n",
      "Fingerprint: 0010010110111110111100001101101101000001100110111010110000010101, Neighbors: 0\n",
      "Fingerprint: 0111010101101111001101110001110110100110111100110100011011000001, Neighbors: 0\n",
      "Fingerprint: 0101110010011110100101100011000011000100101100011010011010010010, Neighbors: 0\n",
      "Fingerprint: 1000011111110110011110101011100011000010111000110100001100000111, Neighbors: 0\n",
      "Fingerprint: 1011100001101011010000111100001110100001011001001110101010010001, Neighbors: 0\n",
      "Fingerprint: 1011110100001111111110101111010000010100011010111001110000010010, Neighbors: 0\n",
      "Fingerprint: 0001011111100000000011010100010011001111011111100001110101000011, Neighbors: 0\n",
      "Fingerprint: 1101100110010101110101111010011000111110101101111010000000011110, Neighbors: 0\n",
      "Fingerprint: 1111110001100101010000000011011000101110100011111001001011110111, Neighbors: 0\n",
      "Fingerprint: 0011101111111010101111001111100011001111011011100010100101101101, Neighbors: 0\n",
      "Fingerprint: 1010101001001011101001111010110111101000000111000011010110110111, Neighbors: 0\n",
      "Fingerprint: 1010011000010000011001000011101100010100101100111001011010001100, Neighbors: 0\n",
      "Fingerprint: 0001001100000110011001111110001000111011000100001000110101100010, Neighbors: 0\n",
      "Fingerprint: 0000111110100101100100110010000100010001101010000110110010000100, Neighbors: 0\n",
      "Fingerprint: 0101111100110011001101110101001001110011000101111001011011011101, Neighbors: 0\n",
      "Running tests...\n",
      "All tests passed!\n"
     ]
    }
   ],
   "source": [
    "# Test the implementation\n",
    "def run_tests():\n",
    "    print(\"Running tests...\")\n",
    "\n",
    "    # Test Tanimoto similarity\n",
    "    assert abs(tanimoto_similarity('1010', '1100') - 0.3333) < 0.0001, \"Tanimoto similarity test failed\"\n",
    "    assert tanimoto_similarity('11110000', '00001111') == 0, \"Tanimoto similarity test failed\"\n",
    "    assert tanimoto_similarity('11111111', '11111111') == 1, \"Tanimoto similarity test failed\"\n",
    "    assert tanimoto_similarity('10101010', '10101010') == 1, \"Tanimoto similarity test failed\"\n",
    "    assert abs(tanimoto_similarity('10101010', '11110000') - 0.3333) < 0.0001, \"Tanimoto similarity test failed\"\n",
    "\n",
    "    # Test merge sort\n",
    "    test_arr = [(1, 5), (2, 3), (3, 8), (4, 1)]\n",
    "    sorted_arr = merge_sort(test_arr, key_func=lambda x: x[1])\n",
    "    assert sorted_arr == [(3, 8), (1, 5), (2, 3), (4, 1)], \"Merge sort test failed\"\n",
    "\n",
    "    # Test with strings\n",
    "    test_arr = [('a', 3), ('b', 1), ('c', 4), ('d', 2)]\n",
    "    sorted_arr = merge_sort(test_arr, key_func=lambda x: x[1])\n",
    "    assert sorted_arr == [('c', 4), ('a', 3), ('d', 2), ('b', 1)], \"Merge sort test with strings failed\"\n",
    "\n",
    "    # Test analyze_fingerprints\n",
    "    test_fingerprints = ['1010', '1100', '0011', '1111']\n",
    "    result = analyze_fingerprints(test_fingerprints, 0.5)\n",
    "    assert result == [('1111', 3), ('1010', 1), ('1100', 1), ('0011', 1)], \"Analyze fingerprints test failed\"\n",
    "\n",
    "    print(\"All tests passed!\")\n",
    "\n",
    "# Generate a set of random fingerprints\n",
    "num_fingerprints = 20\n",
    "fingerprint_length = 64\n",
    "fingerprints = [generate_fingerprint(fingerprint_length) for _ in range(num_fingerprints)]\n",
    "\n",
    "# Set similarity threshold\n",
    "similarity_threshold = 0.7\n",
    "\n",
    "# Analyze fingerprints\n",
    "result = analyze_fingerprints(fingerprints, similarity_threshold)\n",
    "\n",
    "# Print results\n",
    "print(f\"Fingerprints sorted by number of neighbors (similarity threshold: {similarity_threshold}):\")\n",
    "for fp, count in result:\n",
    "    print(f\"Fingerprint: {fp}, Neighbors: {count}\")\n",
    "\n",
    "run_tests()"
   ]
  },
  {
   "cell_type": "markdown",
   "metadata": {
    "id": "FcWXnwF6et0Q"
   },
   "source": [
    "### Comparing Clustering Methods"
   ]
  },
  {
   "cell_type": "markdown",
   "metadata": {
    "id": "hpqNOl8Vet0Q"
   },
   "source": [
    "Starting with our retrosynthetically constructed library, we’ve sampled two subsets of compounds with agglomerative clustering and Taylor-Butina clustering. The following code block compares the two subsets based on two dimensions.\n",
    "\n",
    "As stated several times, we really care about the sampled sets’ diversity. To measure diversity, we calculate the average pairwise Tanimoto similarity for the sampled sets. The lower the average similarity, the more diverse the set. The diversity of the Taylor-Butina sampled set was greater than sampled via agglomerative clustering.\n",
    "\n",
    "We also care about redundancy, as compounds that are likely to share the same activity are redundant and not as valuable for our downstream purposes. Following from literature, compound pairs with greater than 0.85 Tanimoto similarity have an 80% chance of sharing same activity. We calculate the redundancy ratio for each set, which is the ratio of the number of redundant pairs (pairs with a Tanimoto similarity greater than 0.85) to the total number of unique pairs in the set. The lower the redundancy ratio, the less redundant the set is. The redundancy of the Taylor-Butina sampled set was much lower than that achieved via agglomerative clustering.\n",
    "\n",
    "Note: Our source for the 0.85 cut off is not perfect since it was calculated only with respect to Daylight fingerprints. We use it more for convenience, with the caveat that there is no shortage of literature that examines different trends of redundancy (pairs with X similarity have Y% chance of being active given some fingerprint representation, similarity metric, and benchmark data set)\n"
   ]
  },
  {
   "cell_type": "code",
   "execution_count": 24,
   "metadata": {
    "id": "QG6afHbeet0R"
   },
   "outputs": [
    {
     "name": "stdout",
     "output_type": "stream",
     "text": [
      "Agglomerative clustering sampled set diversity (lower is better): 0.5866228108592495\n",
      "Taylor-Butina clustering sampled set diversity (lower is better): 0.4895789453995123\n",
      "The Taylor-Butina clustering sampled set is more diverse.\n"
     ]
    }
   ],
   "source": [
    "# Calculate Tanimoto distance matrix\n",
    "def calculate_tanimoto_distances(fingerprints):\n",
    "    n = len(fingerprints)\n",
    "    tanimoto_distances = np.zeros((n, n))\n",
    "    for i in range(n):\n",
    "        for j in range(i + 1, n):\n",
    "            tanimoto_distances[i, j] = 1 - DataStructs.FingerprintSimilarity(fingerprints[i], fingerprints[j])\n",
    "            tanimoto_distances[j, i] = tanimoto_distances[i, j]\n",
    "    return tanimoto_distances\n",
    "\n",
    "# Calculate the diversity of the sampled sets based on pairwise Tanimoto similarity\n",
    "def calculate_diversity(sampled_indices, fingerprints):\n",
    "    sampled_fps = [fingerprints[i] for i in sampled_indices]\n",
    "    tanimoto_distances = calculate_tanimoto_distances(sampled_fps)\n",
    "    avg_tanimoto_similarity = 1 - np.mean(tanimoto_distances)\n",
    "    return avg_tanimoto_similarity\n",
    "\n",
    "agg_diversity = calculate_diversity(agg_sampled_indices, rdkit_fps)\n",
    "butina_diversity = calculate_diversity(butina_sampled_indices, rdkit_fps)\n",
    "\n",
    "print(f\"Agglomerative clustering sampled set diversity (lower is better): {agg_diversity}\")\n",
    "print(f\"Taylor-Butina clustering sampled set diversity (lower is better): {butina_diversity}\")\n",
    "\n",
    "if agg_diversity < butina_diversity:\n",
    "    print(\"The Agglomerative clustering sampled set is more diverse.\")\n",
    "else:\n",
    "    print(\"The Taylor-Butina clustering sampled set is more diverse.\")"
   ]
  },
  {
   "cell_type": "code",
   "execution_count": 25,
   "metadata": {
    "id": "yhhXLF97et0R"
   },
   "outputs": [
    {
     "name": "stdout",
     "output_type": "stream",
     "text": [
      "Agglomerative clustering sampled set redundancy ratio (lower is better): 0.0851063829787234\n",
      "Taylor-Butina clustering sampled set redundancy ratio (lower is better): 0.035315561631351106\n",
      "The Taylor-Butina clustering sampled set is less redundant.\n"
     ]
    }
   ],
   "source": [
    "# Calculate the redundancy of the sampled sets based on pairwise Tanimoto similarity\n",
    "def calculate_redundancy(sampled_indices, fingerprints, threshold=0.85):\n",
    "    sampled_fps = [fingerprints[i] for i in sampled_indices]\n",
    "    tanimoto_matrix = np.zeros((len(sampled_fps), len(sampled_fps)))\n",
    "    for i, fp1 in enumerate(sampled_fps):\n",
    "        for j, fp2 in enumerate(sampled_fps):\n",
    "            if i != j:\n",
    "                similarity = DataStructs.TanimotoSimilarity(fp1, fp2)\n",
    "                tanimoto_matrix[i, j] = similarity\n",
    "    redundant_pairs = np.where(tanimoto_matrix > threshold)\n",
    "    num_redundant_pairs = len(redundant_pairs[0])\n",
    "    num_unique_pairs = len(sampled_fps) * (len(sampled_fps) - 1) / 2\n",
    "    redundancy_ratio = num_redundant_pairs / num_unique_pairs\n",
    "    return redundancy_ratio\n",
    "\n",
    "agg_redundancy = calculate_redundancy(agg_sampled_indices, rdkit_fps)\n",
    "butina_redundancy = calculate_redundancy(butina_sampled_indices, rdkit_fps)\n",
    "\n",
    "print(f\"Agglomerative clustering sampled set redundancy ratio (lower is better): {agg_redundancy}\")\n",
    "print(f\"Taylor-Butina clustering sampled set redundancy ratio (lower is better): {butina_redundancy}\")\n",
    "\n",
    "if agg_redundancy < butina_redundancy:\n",
    "    print(\"The Agglomerative clustering sampled set is less redundant.\")\n",
    "else:\n",
    "    print(\"The Taylor-Butina clustering sampled set is less redundant.\")"
   ]
  },
  {
   "cell_type": "markdown",
   "metadata": {
    "id": "o7prdIchet0S"
   },
   "source": [
    "#### Big O in Machine Learning\n",
    "\n",
    "Another comparison point for ML algorithms is their time and memory complexity. To choose methods that can handle large data sets, especially when processing time and memory usage are constrained, we can use Big O notation to profile how ML algorithms will scale with increasing data size or dimensionality. Let’s breakdown the complexity for agglomerative clustering, K-means clustering, and Taylor-Butina clustering. In the below, $n$ is the number of data points, $d$ is the number of dimensions (features), $i$ is the number of iterations the algorithm runs for, and $k$ is the number of centroids.\n",
    "\n",
    "Agglomerative Clustering: We compute pairwise distances between each pair of points ($O(d)$), which is $n^2$ computations for the initial distance matrix and, in worst-cast, an additional computation in each of the $n – 1$ merges. The pairwise distance matrix takes up $n^2$ space regardless of dimensionality.\n",
    "-\tTime complexity: $O(n^3 * d)$\n",
    "-\tMemory complexity: $O(n^2)$\n",
    "\n",
    "K-means Clustering: Distances are computed between each centroid and each data point, and each distance calculation takes $O(d)$ time. We compute these distances for each of $i$ iterations. We store each data point and each centroid in memory.\n",
    "-\tTime complexity: $O(k * n * i * d)$\n",
    "-\tMemory complexity: $O((n + k) * d)$\n",
    "\n",
    "Taylor-Butina Clustering: We computer pairwise distances between each pair of points. Each pairwise distance calculation takes $O(d)$ time. It only needs to store each of the $n$ data points and their $d$ values.\n",
    "-\tTime complexity: $O(n^2 * d)$\n",
    "-\tMemory complexity: $O(n * d)$\n",
    "\n",
    "Note that these are general complexities and can vary with specific implementations or optimizations. For instance, agglomerative clustering under certain linkage criteria has a time complexity of $O(n^2 log n * d)$."
   ]
  },
  {
   "cell_type": "markdown",
   "metadata": {
    "id": "8eOPveU7et0S"
   },
   "source": [
    "## Fragment-based Drug Discovery\n",
    "\n",
    "The application of fragments extends beyond compound library construction, encompassing fragment-based drug discovery (FBDD). Compared to the traditional approach of screening against a compound library to identify hits and optimize those hits into leads, FBDD screens against a fragment library to identify multiple fragments with binding affinity to a target. Once fragments are identified, they are expanded, merged, and optimized to yield lead compounds with stronger binding profiles.\n",
    "\n",
    "Screening against a fragment library implies that there are some rules for what properties qualify a molecule as a fragment. Just as we have rule-based guidelines (e.g., Lipinski’s Ro5) for whether a molecule is “drug-like,” fragment libraries generally conform to a “Rule of 3”:\n",
    "\n",
    "1.\tLess than 300 Da molecule weight,\n",
    "2.\t3 or less H bond donors,\n",
    "3.\t3 or less H bond acceptors,\n",
    "4.\t3 or less CLogP\n",
    "\n",
    "Compared to compound screening libraries, which constitute millions of compounds, fragment libraries tend towards less than 1,000 fragments. These fragments are less complex than the larger, drug-like compounds they are derived from, which is advantageous because the fragments can access and explore more of the potential binding sites of the target protein. Thus, even though the library contains only 1,000 fragments, each fragment is able to probe the target protein’s structure more extensively than a full-fledged compound. The resulting higher hit rate and increased coverage of chemical space contribute to greater monetary efficiency.\n",
    "\n",
    "Each fragment is weakly binding, so once our screen has run its course and identified fragments, we need conflate these fragments into actionable leads with high binding affinity. Several methods for doing so are visualized below (figure source:  de Souza Neto, L. R., Moreira-Filho, J. T., Neves, B. J., Maidana, R. L. B. R., Guimarães, A. C. R., Furnham, N., Andrade, C. H., & Silva, F. P., Jr (2020). In silico Strategies to Support Fragment-to-Lead Optimization in Drug Discovery. Frontiers in chemistry, 8, 93. https://doi.org/10.3389/fchem.2020.00093).\n",
    "\n",
    "![UN04](https://github.com/nrflynn2/swe-molecular-sciences/blob/main/figures/L02_UN04_Flynn.png?raw=1)\n",
    "\n",
    "![UN05](https://github.com/nrflynn2/swe-molecular-sciences/blob/main/figures/L02_UN05_Flynn.png?raw=1)"
   ]
  },
  {
   "cell_type": "markdown",
   "metadata": {
    "id": "GfZ0zqrSet0T"
   },
   "source": [
    "Once we’ve expanded the fragment hits into a compound, are we done? It’s not that simple. We want the resulting compound from growing, linking, or merging the fragments to have a better binding profile than the individual fragments. For the majority of the compounds we’ll derive from fragments, this won’t be the case and they won’t be suitable leads. The fragments are, individually, weak binders and their experimental binding is often with respect to a crystallized, static structure that doesn’t reflect how that structure, and resulting binding poses, change at non-cryogenic conditions (e.g., room temperature). Merging the fragments doesn’t make up for the unreliable, weak binding of each fragment in isolation.\n",
    "\n",
    "So now what?"
   ]
  },
  {
   "cell_type": "markdown",
   "metadata": {
    "id": "xQdW2Hetet0T"
   },
   "source": [
    "### Pharmacophore Modeling"
   ]
  },
  {
   "cell_type": "markdown",
   "metadata": {
    "id": "_1GRgYkEet0T"
   },
   "source": [
    "Let’s take a step back and think about drug-target complementarity. Intermolecular forces, such as hydrogen bonding, hold a drug to its target. Intermolecular forces will not form unless the drug is positioned such that its functional groups interact with the target’s functional groups in a way that facilitates binding. A good drug candidate that binds strongly and is biologically active to our target needs, at minimum, (1) the right functional groups with (2) the correct geometry (distances, angles, orientations).\n",
    "\n",
    "A drug’s pharmacophore represents the proper functionality and geometry for the drug to be biologically active. Pharmacophores are a useful abstraction, representing the ensemble of functional groups and their ideal spacing that is necessary to ensure optimal interaction with a specific biological target structure to trigger (or block) its biological response.\n",
    "\n",
    "Consider the figure below. (A) shows the pharmacophore for morphine and (B) illustrates the explanation for why one enantiomer of epinephrine is much more potent in humans (adrenalin) while the other has weak potency since its orientation does not enable H-bond contact.\n",
    "\n",
    "![UN06](https://github.com/nrflynn2/swe-molecular-sciences/blob/main/figures/L02_UN06_Flynn.svg?raw=1)\n",
    "\n",
    "We can intuit pharmacophoric features as describing a compound’s preferences for specific molecular interactions, such as H-bond acceptors, H-bond donors, hydrophobic areas, aromatic interactions, coordination to metal ions, and so on. As we’ve done in the past with other descriptors or features, we can annotate molecules with all interaction features possible, either in a vacuum (ligand-based) or with respect to binding to a specific target (structure-based). With enough data, pharmacophore modeling can identify essential interaction features that are responsible for activity and use important pharmacophores to score compounds from a screening database.\n",
    "\n",
    "How do pharmacophores relate to FBDD? Consider the design of a pharmacophore as shown in (C) of the previous figure. To satisfy the pharmacophore’s requirements, we might select the shown functional groups, and connect them to produce a compound that contains the pharmacophore. This is analogous to how we might screen fragment hits and consider ways to expand or merge them into a compound containing those fragments.\n",
    "\n",
    "Pharmacophores include many key functional groups, often more than 3 and not coplanar, so they exist in three-dimensional space (though we can compute either 2D or 3D pharmacophoric features). This relates back to the importance of conformational flexibility. For instance, a compound with a high number of rotatable bonds may have many probable conformations with improper spacing of the functional groups, which minimizes the probability that the functional groups will match the desired pharmacophore. The next figure highlights 3D pharmacophoric features (H-bond donors in red, H-bond acceptors in blue, aromatics in green) for one possible conformer sampled from an arbitrary molecule.\n",
    "\n",
    "![UN07](https://github.com/nrflynn2/swe-molecular-sciences/blob/main/figures/L02_UN07_Flynn.png?raw=1)\n"
   ]
  },
  {
   "cell_type": "markdown",
   "metadata": {
    "id": "YFeb2hQoet0U"
   },
   "source": [
    "For a given fragment hit, we can decompose it into its pharmacophores. If we repeat this for every fragment that was a hit during experimental screening, we will now have a probability distribution of pharmacophores in relation to the target structure of interest, which is advantageous compared to the traditional merging approaches that think of each fragment one-by-one. We can then use unsupervised learning (density estimation) to identify significant pharmacophores from the ensemble of fragment hits and filter out noise from weakly binding fragments."
   ]
  },
  {
   "cell_type": "markdown",
   "metadata": {
    "id": "pZWQAAxcet0U"
   },
   "source": [
    "### Density Estimation\n",
    "\n"
   ]
  },
  {
   "cell_type": "markdown",
   "metadata": {
    "id": "ls5eZPFFet0U"
   },
   "source": [
    "Our plan is to assess the pharmacophoric features of all of the fragments that were hits in the experimental screening step. We’ll then develop a model to estimate the probability distribution underlying the influence of different pharmacophores at different locations in the protein’s binding site. If we have enough data points for the model to adequately learn this distribution, we can take a vast library of compounds, annotate their pharmacophores, and score how well those compounds fit the estimated pharmacophore distribution with respect to the protein binding site (i.e., structure-based virtual screening).\n",
    "\n",
    "Density estimation is an unsupervised learning technique that will help us model the unknown probability distribution from which a given data set has been sampled. Imagine we were trying to figure out how crowded different parts of a city are. We might look at a map and estimate that the city is more densely populated in areas where high-rise offices or apartment buildings are packed closely together, compared to single-family homes spread out in suburbs on the city’s outer edge. We might then use these estimates to decide the appropriate location to build an upscale restaurant that caters to wine-and-dine business expenses and wants to maximize proximity to corporate clientele.\n",
    "\n",
    "Instead of buildings, we have data points comprised of individual compounds. Likewise, instead of the building’s height, we have features such as a compound’s regions of intermolecular interactions, and instead of the building’s location in the city, we have the spatial arrangement and geometry of those intermolecular interactions (which, combined, define the compound’s pharmacophores). In summary, density estimation models how “crowded” different segments of our data set are.\n",
    "\n",
    "A detailed description of density estimation is outside of the scope of this course. However, if you've ever worked with a histogram, that is an example of a density estimator. A histogram groups data into defined intervals and represents the number of data points that fall into each interval as a vertical bar whose height corresponds to the number of data points in that interval. Problematically, histograms can change significantly depending on the number of intervals and the length of the intervals, resulting in different interpretations of the same data set. Histograms also discretize the data into intervals, which obscures the underlying continuous nature of the data distribution into a jagged, step-like representation and may introduce artifacts at the edges of the interval boundaries.\n",
    "\n",
    "While we won't explain the mechanics, we will use something similar to a histogram density estimator -- called a kernel density estimator (KDE). However, instead of the jagged, step-like estimation of a histogram, KDE provides a more continuous estimation as visualized in the figure below.\n",
    "\n",
    "![UN08](https://github.com/nrflynn2/swe-molecular-sciences/blob/main/figures/L02_UN08_Flynn.png?raw=1)"
   ]
  },
  {
   "cell_type": "markdown",
   "metadata": {
    "id": "sv5uLajTet0V"
   },
   "source": [
    "### Exercise 4: Sliding Windows and KDE\n",
    "\n",
    "The sliding window pattern is a technique in data processing where a fixed-size \"window\" moves over a dataset, analyzing or transforming only the data within that window at each step. It's particularly useful for time series analysis, signal processing, and sequence data. In relation to KDE, the sliding window concept is similar to how KDE uses a kernel function to estimate the probability density at each point, with the kernel effectively acting as a window that weighs nearby points more heavily. Both techniques involve local calculations that move across the entire dataset, allowing for efficient analysis of large datasets by focusing on subsets at a time.\n",
    "\n",
    "In this exercise, you will implement a sliding window algorithm to estimate the local density of data points in a time series. This technique is useful\n",
    "in various scientific applications, including molecular dynamics simulations and signal processing.\n",
    "\n",
    "The task can decomposed into the following steps, with several steps (partially) implemented for you already:\n",
    "1. Implement the `sliding_window_density function` that uses a sliding window to estimate the local density of data points.\n",
    "2. The function should take a list of (timestamp, value) tuples, a window size, and a step size as input.\n",
    "3. For each window, calculate the density as the number of points in the window divided by the time span of the window.\n",
    "4. Return a list of (window_center_time, density) tuples."
   ]
  },
  {
   "cell_type": "markdown",
   "metadata": {
    "id": "WYmyEOhret0V"
   },
   "source": [
    "### Student Solution to Exercise 4\n",
    "\n",
    "Provide your solution to the above exercise in this cell and/or immediately following cells."
   ]
  },
  {
   "cell_type": "code",
   "execution_count": 28,
   "metadata": {
    "id": "UDL6Mg8Eet0V"
   },
   "outputs": [
    {
     "name": "stdout",
     "output_type": "stream",
     "text": [
      "Sample density estimation results:\n",
      "Time: 1.29, Density: 10.00\n",
      "Time: 1.79, Density: 7.00\n",
      "Time: 2.29, Density: 8.00\n",
      "Time: 2.79, Density: 8.00\n",
      "Time: 3.29, Density: 6.50\n",
      "Time: 3.79, Density: 9.00\n",
      "Time: 4.29, Density: 10.50\n",
      "Time: 4.79, Density: 12.00\n",
      "Time: 5.29, Density: 13.50\n",
      "Time: 5.79, Density: 12.50\n",
      "All test cases passed!\n"
     ]
    }
   ],
   "source": [
    "def generate_sample_data(n: int, time_range: Tuple[float, float], value_range: Tuple[float, float]) -> List[Tuple[float, float]]:\n",
    "    \"\"\"Generate sample time series data.\"\"\"\n",
    "    return sorted([\n",
    "        (random.uniform(*time_range), random.uniform(*value_range))\n",
    "        for _ in range(n)\n",
    "    ])\n",
    "\n",
    "def sliding_window_density(data: List[Tuple[float, float]], window_size: float, step_size: float) -> List[Tuple[float, float]]:\n",
    "    \"\"\"\n",
    "    Estimate local density using a sliding window.\n",
    "\n",
    "    :param data: List of (timestamp, value) tuples\n",
    "    :param window_size: Size of the sliding window\n",
    "    :param step_size: Step size for sliding the window\n",
    "    :return: List of (window_center_time, density) tuples\n",
    "    \"\"\"\n",
    "\n",
    "    # Validate inputs\n",
    "    if window_size <= 0:\n",
    "        raise ValueError(\"Window size must be positive\")\n",
    "    if step_size <= 0:\n",
    "        raise ValueError(\"Step size must be positive\")\n",
    "\n",
    "    # Handle empty data case\n",
    "    if not data:\n",
    "        return []\n",
    "\n",
    "    # Handle single data point case\n",
    "    if len(data) == 1:\n",
    "        return [(data[0][0], 1/window_size)] if window_size > 0 else [(data[0][0], float('inf'))]\n",
    "\n",
    "    result = []\n",
    "    start_time, end_time = data[0][0], data[-1][0]\n",
    "\n",
    "    window_start = start_time\n",
    "\n",
    "    # TODO: Main loop executes while window_start + window_size is <= end_time\n",
    "    while window_start + window_size <= end_time:\n",
    "    # TODO: Within the loop, conduct the following steps\n",
    "    #           Define window_end for the current window, which is the start of the window plus the window size\n",
    "        window_end = window_start + window_size\n",
    "    #           Compute the window_center using window_start and window_end\n",
    "        window_center = (window_start + window_end) / 2\n",
    "    #           Count the points in the current window, points_in_window. To do so, iterate over each (timestamp, value) tuple in data and, if the timestamp is within [window_start, window_end), increment the count of points in the window by 1\n",
    "        points_in_window = 0\n",
    "        for x in data:\n",
    "            if window_start <= x[0] < window_end:\n",
    "                points_in_window += 1\n",
    "    #           Calculate the density, which is equal to the points in the window divided by the window size\n",
    "        density = points_in_window / window_size\n",
    "    #           Append the (window_center, density) tuple to result\n",
    "        result.append((window_center,density))\n",
    "    #           Increment window_start by the step_size\n",
    "        window_start += step_size\n",
    "\n",
    "    return result\n",
    "\n",
    "def run_tests():\n",
    "    # Test case 1: Basic functionality\n",
    "    data1 = [(1, 2), (2, 3), (3, 4), (4, 5), (5, 6)]\n",
    "    result1 = sliding_window_density(data1, window_size=2, step_size=1)\n",
    "    expected1 = [(2.0, 1.0), (3.0, 1.0), (4.0, 1.0)]\n",
    "    assert result1 == expected1, f\"Test case 1 failed. Expected {expected1}, but got {result1}\"\n",
    "\n",
    "    # Test case 2: Varying density\n",
    "    data2 = [(1, 1), (1.1, 2), (1.2, 3), (2, 4), (3, 5), (4, 6)]\n",
    "    result2 = sliding_window_density(data2, window_size=1, step_size=0.5)\n",
    "    expected2 = [(1.5, 3.0), (2.0, 1.0), (2.5, 1.0), (3.0, 1.0), (3.5, 1.0)]\n",
    "    assert result2 == expected2, f\"Test case 2 failed. Expected {expected2}, but got {result2}\"\n",
    "\n",
    "    # Test case 3: Empty data\n",
    "    data3 = []\n",
    "    result3 = sliding_window_density(data3, window_size=1, step_size=0.5)\n",
    "    expected3 = []\n",
    "    assert result3 == expected3, f\"Test case 3 failed. Expected {expected3}, but got {result3}\"\n",
    "\n",
    "    # Test case 4: Single data point\n",
    "    data4 = [(1, 1)]\n",
    "    result4 = sliding_window_density(data4, window_size=1, step_size=0.5)\n",
    "    expected4 = [(1.0, 1.0)]\n",
    "    assert result4 == expected4, f\"Test case 4 failed. Expected {expected4}, but got {result4}\"\n",
    "\n",
    "    # Test case 5: Window larger than data range\n",
    "    data5 = [(1, 1), (2, 2), (3, 3)]\n",
    "    result5 = sliding_window_density(data5, window_size=5, step_size=1)\n",
    "    expected5 = []\n",
    "    assert result5 == expected5, f\"Test case 5 failed. Expected {expected5}, but got {result5}\"\n",
    "\n",
    "    print(\"All test cases passed!\")\n",
    "\n",
    "sample_data = generate_sample_data(100, (0, 10), (0, 1))\n",
    "density_estimation = sliding_window_density(sample_data, window_size=2, step_size=0.5)\n",
    "print(\"Sample density estimation results:\")\n",
    "for time, density in density_estimation[:10]:  # Print first 10 results\n",
    "    print(f\"Time: {time:.2f}, Density: {density:.2f}\")\n",
    "\n",
    "# Test the implementation\n",
    "run_tests()"
   ]
  },
  {
   "cell_type": "markdown",
   "metadata": {
    "id": "i-sktqz_et0W"
   },
   "source": [
    "### Combining it all together: FRESCO"
   ]
  },
  {
   "cell_type": "markdown",
   "metadata": {
    "id": "-ygw0P9Uet0W"
   },
   "source": [
    "We have all the tools we need to estimate the pharmacophore distributions and use them to score molecules for continued investigation. Let’s put it all together following the work on the package FRESCO (reference: McCorkindale, W., et al. (2022). Fragment-Based Hit Discovery via Unsupervised Learning of Fragment-Protein Complexes. bioRxiv 2022.11.21.517375; doi: https://doi.org/10.1101/2022.11.21.517375). Using the Fresco demo as a guide, we will discuss each step with attention to the internals that focus on pharmacophore modeling and density estimation. Much of the following code is adapted from FRESCO's GitHub repository: https://github.com/wjm41/fresco/tree/master"
   ]
  },
  {
   "cell_type": "markdown",
   "metadata": {
    "id": "NIIv-Drvet0W"
   },
   "source": [
    "We start with pre-processed mpro_frags.sdf provided for demo purposes by FRESCO and note that the following code listings are inspired and modified from FRESCO implementations. The mpro_frags.sdf file contains aligned conformations of 23 fragments bound to SARS-CoV-2 Mpro. We annotate this fragment ensemble with 3D pharmacophore features. The produced pcore_df contains the pharmacophore features, along with 3D coordinates for each molecule. Note that we limit our interest to H-bond donor, H-bond acceptor, and aromatic pharmacophore features."
   ]
  },
  {
   "cell_type": "code",
   "execution_count": 31,
   "metadata": {
    "id": "hSFUSb_Qet0W"
   },
   "outputs": [],
   "source": [
    "sdfFile = 'data/L02_mpro_frags.sdf'\n"
   ]
  },
  {
   "cell_type": "code",
   "execution_count": null,
   "metadata": {},
   "outputs": [
    {
     "name": "stderr",
     "output_type": "stream",
     "text": [
      "Failed to patch pandas - unable to change molecule rendering\n"
     ]
    }
   ],
   "source": [
    "df_fragments = PandasTools.LoadSDF(sdfFile, idName='name', smilesName='SMILES', molColName='mol')"
   ]
  },
  {
   "cell_type": "code",
   "execution_count": null,
   "metadata": {
    "id": "u0CiUQGVet0X"
   },
   "outputs": [],
   "source": [
    "def compute_pcore_data(mol, mol_id=0):\n",
    "    \"\"\"\n",
    "    Compute pharmacophoric core (pcore) data for a given molecule.\n",
    "\n",
    "    Parameters:\n",
    "    - mol: RDKit molecule object\n",
    "    - mol_id: Identifier for the molecule\n",
    "\n",
    "    Returns:\n",
    "    - DataFrame containing pcore information\n",
    "    \"\"\"\n",
    "    # Define pharmacophoric cores of interest\n",
    "    pcores_of_interest = ['Donor', 'Acceptor', 'Aromatic']\n",
    "\n",
    "    # Load feature definition file\n",
    "    fdefFile = os.path.join(RDDataDir, 'BaseFeatures.fdef')\n",
    "    featFactory = ChemicalFeatures.BuildFeatureFactory(fdefFile)\n",
    "\n",
    "    # Get atom coordinates and pharmacophore features\n",
    "    atom_coordinates = mol.GetConformer().GetPositions()\n",
    "    pharmacophore_features = featFactory.GetFeaturesForMol(mol)\n",
    "\n",
    "    # Collect DataFrame rows\n",
    "    rows = []\n",
    "    for pcore in pharmacophore_features:\n",
    "        pharmacophore_name = pcore.GetFamily()\n",
    "\n",
    "        if pharmacophore_name in pcores_of_interest:\n",
    "            atom_ids = pcore.GetAtomIds()\n",
    "            xyz = np.mean([atom_coordinates[id] for id in atom_ids], axis=0)\n",
    "            rows.append({\n",
    "                'pcore': pharmacophore_name,\n",
    "                'smiles': MolToSmiles(mol),\n",
    "                'mol_id': mol_id,\n",
    "                'coord_x': xyz[0],\n",
    "                'coord_y': xyz[1],\n",
    "                'coord_z': xyz[2],\n",
    "            })\n",
    "    return pd.DataFrame(rows)\n",
    "\n",
    "mols = df_fragments['mol'].values\n",
    "dfs = []\n",
    "for mol_id, mol in tqdm(enumerate(mols), total=len(mols)):\n",
    "    dfs.append(compute_pcore_data(mol, mol_id))\n",
    "pcore_df = pd.concat(dfs)"
   ]
  },
  {
   "cell_type": "code",
   "execution_count": null,
   "metadata": {
    "id": "8-8z_4Wtet0X"
   },
   "outputs": [],
   "source": [
    "pcore_df.head()"
   ]
  },
  {
   "cell_type": "markdown",
   "metadata": {
    "id": "jmTUzFySet0X"
   },
   "source": [
    "We now assess each pair of fragments in the ensemble, and we measure the distance between each pair of pharmacophore features across the fragment pair. Since we are interested in three pharmacophore feature types, there are six possible pairwise pharmacophore feature types, and we calculate the pairwise distances between each instance of a pharmacophore feature pair. The smaller the distance between the pharmacophore feature in one fragment and that in another fragment, the closer those pharmacophores are to each other within the binding site."
   ]
  },
  {
   "cell_type": "code",
   "execution_count": null,
   "metadata": {
    "id": "eI4yabNRet0Y"
   },
   "outputs": [],
   "source": [
    "def calculate_pairwise_distances_between_pharmacophores_for_fragment_ensemble(df_of_frag_ensemble_pcores, pcore_a, pcore_b):\n",
    "    \"\"\"\n",
    "    Calculate pairwise distances between two specified pharmacophores within a fragment ensemble.\n",
    "\n",
    "    Parameters:\n",
    "    - df_of_frag_ensemble_pcores: DataFrame containing pharmacophoric data for fragment ensemble\n",
    "    - pcore_a: Name of the first pharmacophore\n",
    "    - pcore_b: Name of the second pharmacophore\n",
    "\n",
    "    Returns:\n",
    "    - A NumPy array of pairwise distances between the specified pharmacophores\n",
    "    \"\"\"\n",
    "    # Filter DataFrame for the specified pharmacophores\n",
    "    df_pcore_a = df_of_frag_ensemble_pcores.query('pcore == @pcore_a')\n",
    "    df_pcore_b = df_of_frag_ensemble_pcores.query('pcore == @pcore_b')\n",
    "\n",
    "    unique_smiles_a = df_pcore_a['smiles'].unique()\n",
    "    # Initialize list to store distances\n",
    "    distances_for_all_pairs = []\n",
    "\n",
    "    for smile in unique_smiles_a:\n",
    "        # Coordinates of pcore_a in the current fragment\n",
    "        coords_a = df_pcore_a[df_pcore_a['smiles'] == smile][['coord_x', 'coord_y', 'coord_z']].to_numpy()\n",
    "\n",
    "        # Coordinates of pcore_b in different fragments (don't count distances within the same fragment)\n",
    "        coords_b = df_pcore_b[df_pcore_b['smiles'] != smile][['coord_x', 'coord_y', 'coord_z']].to_numpy()\n",
    "\n",
    "        if coords_b.size == 0:\n",
    "            continue  # Skip if there are no pcore_b in different fragments\n",
    "\n",
    "        # Calculate  and store pairwise distances\n",
    "        delta_coords = coords_a[:, np.newaxis, :] - coords_b[np.newaxis, :, :]\n",
    "        distances_for_this_pair = np.linalg.norm(delta_coords, axis=2).flatten()\n",
    "        distances_for_all_pairs.append(distances_for_this_pair)\n",
    "\n",
    "    return np.hstack(distances_for_all_pairs)\n",
    "\n",
    "interesting_pcores = [\n",
    "    'Donor-Aromatic', 'Aromatic-Acceptor', 'Aromatic-Aromatic',\n",
    "    'Donor-Donor', 'Donor-Acceptor', 'Acceptor-Acceptor'\n",
    "]\n",
    "frag_pcore_histogram = {}\n",
    "frag_pcore_weight = {}\n",
    "for pcore_pair in interesting_pcores:\n",
    "    core_a, core_b = pcore_pair.split('-')\n",
    "    frag_pcore_histogram[pcore_pair] = calculate_pairwise_distances_between_pharmacophores_for_fragment_ensemble(pcore_df, core_a, core_b)"
   ]
  },
  {
   "cell_type": "markdown",
   "metadata": {
    "id": "x-ESZpXqet0Y"
   },
   "source": [
    "Once we have the distances for each possible pair of fragments and for each possible pairing of pharmacophores, we have enough information to construct a pharmacophore-pharmacophore pairwise distance distribution for each pharmacophore feature. We fit multiple KDE models to these distributions to learn the probability density of a pair of pharmacophores associated with fragment binding having a particular distance from each other in the binding site.\n",
    "\n",
    "The following code block fits multiple KDE models and then selects the optimal KDE model. We visualize the final KDE models in a figure following the code block. Note that there is room for improvement and our best model is not perfect. The estimates for Aromatic-Aromatic and Donor-Acceptor are best, and those for Donor-Aromatic and Aromatic-Acceptor are permissible, albeit arguably too smooth. The estimates for Donor-Donor and Acceptor-Acceptor are noisy, with too small of a bandwidth.\n"
   ]
  },
  {
   "cell_type": "code",
   "execution_count": null,
   "metadata": {
    "id": "iEzd5vCqet0Y"
   },
   "outputs": [],
   "source": [
    "from sklearn.neighbors import KernelDensity\n",
    "from sklearn.model_selection import GridSearchCV\n",
    "\n",
    "def fit_sklearn_pair_kde(data):\n",
    "    params = {'bandwidth': np.logspace(-3, 3, 50)}\n",
    "    grid = GridSearchCV(KernelDensity(kernel='gaussian', rtol=1e-4), params)\n",
    "    grid.fit(data.reshape(-1, 1))\n",
    "    kde = grid.best_estimator_\n",
    "    return kde\n",
    "\n",
    "fresco_kdes = {}\n",
    "for pcore_pair in interesting_pcores:\n",
    "    fresco_kdes[pcore_pair] = fit_sklearn_pair_kde(frag_pcore_histogram[pcore_pair])"
   ]
  },
  {
   "cell_type": "code",
   "execution_count": null,
   "metadata": {
    "id": "qGp8QEKCet0Z"
   },
   "outputs": [],
   "source": [
    "fresco_kdes"
   ]
  },
  {
   "cell_type": "markdown",
   "metadata": {
    "id": "PhmsTbl8et0Z"
   },
   "source": [
    "![UN09](https://github.com/nrflynn2/swe-molecular-sciences/blob/main/figures/L02_UN09_Flynn.png?raw=1)"
   ]
  },
  {
   "cell_type": "markdown",
   "metadata": {
    "id": "5NyAGYvket0Z"
   },
   "source": [
    "Once we have modeled the probability density of a pair of pharmacophores having a particular distance, we can score molecules that we have never seen. For an unseen molecule, we can compute the pairwise distances of its pharmacophores and observe how well its pairwise pharmacophore distances align with the fitted density estimates. If the unseen molecule’s distance measurements closely correspond to the distributions that we observed from the product of our experiment fragment screens, then it is assigned a higher score. If it doesn’t fit well, then its score is lower.\n",
    "\n",
    "As an example, consider the donor-acceptor distance distribution in the previous figure. A donor-acceptor pair that is 6 angstroms apart is much more likely than a donor-acceptor pair that is 10 angstroms apart.\n",
    "\n",
    "To score a new molecule, we loop over its pharmacophore pairs and calculate the probability of the distance between each pharmacophore pair (with respect to the fitted density estimate). We compute the mean of the log probabilities, which outputs the final score. The next code block shows how to do this to score the new molecules we sampled via Taylor-Butina clustering."
   ]
  },
  {
   "cell_type": "code",
   "execution_count": null,
   "metadata": {
    "id": "YhBYbouAet0a"
   },
   "outputs": [],
   "source": [
    "def calculate_pairwise_distances_between_pharmacophores_for_a_single_ligand(df_of_pcores_for_single_ligand, pcore_a, pcore_b):\n",
    "    \"\"\"\n",
    "    Calculate the pairwise distance between pharmacophores pcore_a and pcore_b in the same ligand.\n",
    "\n",
    "    Parameters:\n",
    "    - df: DataFrame containing pharmacophoric data for a single ligand\n",
    "    - pcore_a: Name of the first pharmacophore\n",
    "    - pcore_b: Name of the second pharmacophore\n",
    "\n",
    "    Returns:\n",
    "    - A NumPy array of pairwise distances between the specified pharmacophores\n",
    "    \"\"\"\n",
    "    df_pcore_a = df_of_pcores_for_single_ligand.query('pcore == @pcore_a')\n",
    "    coords_a = df_pcore_a[['coord_x', 'coord_y', 'coord_z']].to_numpy()\n",
    "    df_pcore_b = df_of_pcores_for_single_ligand.query('pcore == @pcore_b')\n",
    "    coords_b = df_pcore_b[['coord_x', 'coord_y', 'coord_z']].to_numpy()\n",
    "\n",
    "    # If coordinates are missing then we can't calculate distances\n",
    "    if len(coords_b) > 0:\n",
    "        delta_coords = coords_a[:, np.newaxis] - coords_b\n",
    "        distances = np.linalg.norm(delta_coords, axis=2)\n",
    "        return distances.flatten()\n",
    "\n",
    "def score_mol(kde_dict, pair_distribution, pcore_pairs):\n",
    "    \"\"\"\n",
    "    Score a molecule based on its pharmacophoric pair distribution.\n",
    "\n",
    "    Parameters:\n",
    "    - kde_dict: Dictionary containing Kernel Density Estimations (KDE) for each pharmacophore pair\n",
    "    - pair_distribution: Dictionary containing pairwise distances for the molecule\n",
    "    - pcore_pairs: List of pharmacophore pairs\n",
    "\n",
    "    Returns:\n",
    "    - The score for the molecule\n",
    "    \"\"\"\n",
    "    score_df = pd.DataFrame(columns=pcore_pairs)\n",
    "    for pcore_combination in pcore_pairs:\n",
    "        kde = kde_dict[pcore_combination]\n",
    "        pcore_dist = pair_distribution[pcore_combination].reshape(-1, 1)\n",
    "        pcore_score = np.max(kde.score_samples(pcore_dist.reshape(-1, 1)))\n",
    "        score_df.at[0, pcore_combination] = pcore_score\n",
    "\n",
    "    return np.nanmean(score_df[pcore_pairs].to_numpy().astype(float))"
   ]
  },
  {
   "cell_type": "code",
   "execution_count": null,
   "metadata": {
    "id": "02iEFF2Zet0a"
   },
   "outputs": [],
   "source": [
    "smiles = 'Cc1ccccc1CNc1ccccc1NC(=O)[C@@H](O)c1cccnc1'\n",
    "mol = Chem.MolFromSmiles(smiles)\n",
    "mol = Chem.AddHs(mol)\n",
    "AllChem.EmbedMolecule(mol)"
   ]
  },
  {
   "cell_type": "code",
   "execution_count": null,
   "metadata": {
    "id": "GEuq10jset0a"
   },
   "outputs": [],
   "source": [
    "mol_pcore_df = compute_pcore_data(mol)\n",
    "pair_distribution_for_this_ligand = {}\n",
    "for pcore_pair in interesting_pcores:\n",
    "    core_a, core_b = pcore_pair.split('-')\n",
    "    pair_distribution_for_this_ligand[pcore_pair] = calculate_pairwise_distances_between_pharmacophores_for_a_single_ligand(\n",
    "        mol_pcore_df, core_a, core_b)"
   ]
  },
  {
   "cell_type": "code",
   "execution_count": null,
   "metadata": {
    "id": "K9ypJ1VMet0b"
   },
   "outputs": [],
   "source": [
    "score_for_this_mol = score_mol(fresco_kdes, pair_distribution_for_this_ligand, interesting_pcores)"
   ]
  },
  {
   "cell_type": "code",
   "execution_count": null,
   "metadata": {
    "id": "tj8X6oaXet0b"
   },
   "outputs": [],
   "source": [
    "score_for_this_mol"
   ]
  },
  {
   "cell_type": "markdown",
   "metadata": {
    "id": "VVgzErECet0c"
   },
   "source": [
    "And with that, we can score any compounds (e.g., our Taylor-Butina synthetic sample) with regard to their activity against Mpro in the context of our estimated probability distribution. We can then use these scores to prioritize compounds for downstream computational and experimental studies."
   ]
  },
  {
   "cell_type": "markdown",
   "metadata": {
    "id": "Sep0BGsbet0c"
   },
   "source": [
    "### Exercise 5: Pairwise Distance\n",
    "\n",
    "In our computation of the 2-body pharmacophore distribution, we calculated pairwise distances of pharmacophores. In a similar, simplified context, implement a pairwise distance calculator. Given a list of points in 2D space, implement a function that calculates the pairwise Euclidean distances between all points.\n",
    "\n",
    "The function should:\n",
    "1. Take a list of tuples, where each tuple represents a point (x, y).\n",
    "2. Calculate the Euclidean distance between every pair of points.\n",
    "3. Return a list of tuples, where each tuple contains: (point1, point2, distance)\n",
    "\n",
    "Note: The distance between a point and itself should not be included in the result.\n",
    "\n",
    "Example:\n",
    "Input: [(0, 0), (3, 4), (1, 1)]\n",
    "Output: [((0, 0), (3, 4), 5.0), ((0, 0), (1, 1), 1.4142135623730951), ((3, 4), (1, 1), 3.605551275463989)]\n",
    "\n",
    "Hint: The Euclidean distance between two points (x1, y1) and (x2, y2) is:\n",
    "$sqrt((x2 - x1)^2 + (y2 - y1)^2)$"
   ]
  },
  {
   "cell_type": "markdown",
   "metadata": {
    "id": "cGRehB3ket0c"
   },
   "source": [
    "### Student Solution to Exercise 5\n",
    "\n",
    "Provide your solution to the above exercise in this cell and/or immediately following cells."
   ]
  },
  {
   "cell_type": "code",
   "execution_count": null,
   "metadata": {
    "id": "ERGsbHndet0d"
   },
   "outputs": [],
   "source": [
    "import math\n",
    "from typing import List, Tuple\n",
    "\n",
    "def calculate_distance(p1: Tuple[float, float], p2: Tuple[float, float]) -> float:\n",
    "    \"\"\"\n",
    "    Calculate Euclidean distance between two points.\n",
    "\n",
    "    Args:\n",
    "        p1: First point (x, y)\n",
    "        p2: Second point (x, y)\n",
    "    Returns:\n",
    "        float: Euclidean distance between the points\n",
    "    \"\"\"\n",
    "    # TODO: Implement the function\n",
    "    pass\n",
    "\n",
    "def calculate_pairwise_distances(points: List[Tuple[float, float]]) -> List[Tuple[Tuple[float, float], Tuple[float, float], float]]:\n",
    "    \"\"\"\n",
    "    Calculate distances between all pairs of points.\n",
    "\n",
    "    Args:\n",
    "        points: List of (x, y) coordinate tuples\n",
    "    Returns:\n",
    "        List of tuples containing (point1, point2, distance)\n",
    "        Each pair is included only once and point1 comes before point2 in the input list\n",
    "    \"\"\"\n",
    "    # Handle empty list or single point cases\n",
    "    if len(points) <= 1:\n",
    "        return []\n",
    "\n",
    "    result = []\n",
    "\n",
    "    # Calculate distances for all pairs\n",
    "    for i in range(len(points) - 1):\n",
    "        for j in range(i + 1, len(points)):\n",
    "            p1 = points[i]\n",
    "            p2 = points[j]\n",
    "            distance = calculate_distance(p1, p2)\n",
    "            result.append((p1, p2, distance))\n",
    "\n",
    "    return result\n",
    "\n",
    "# Test cases\n",
    "def run_tests():\n",
    "    test_cases = [\n",
    "        ([(0, 0), (3, 4), (1, 1)], 3),\n",
    "        ([(0, 0), (1, 1), (2, 2), (3, 3)], 6),\n",
    "        ([(0, 0)], 0),\n",
    "        ([], 0),\n",
    "        ([(1.5, 2.5), (3.5, 4.5), (5.5, 6.5), (7.5, 8.5)], 6)\n",
    "    ]\n",
    "\n",
    "    for i, (points, expected_count) in enumerate(test_cases):\n",
    "        print(f\"\\nTest case {i + 1}:\")\n",
    "        print(f\"Input: {points}\")\n",
    "        result = calculate_pairwise_distances(points)\n",
    "        print(f\"Output:\")\n",
    "        for pair in result:\n",
    "            print(f\"  {pair}\")\n",
    "        print(f\"Number of pairs: {len(result)}\")\n",
    "        assert len(result) == expected_count, f\"Expected {expected_count} pairs, but got {len(result)}\"\n",
    "        print(\"Test case passed!\")\n",
    "\n",
    "run_tests()"
   ]
  },
  {
   "cell_type": "markdown",
   "metadata": {
    "id": "NryfT2Vyet0d"
   },
   "source": [
    "## References"
   ]
  },
  {
   "cell_type": "markdown",
   "metadata": {
    "id": "Z0g_Yp_Fet0e"
   },
   "source": [
    "[1] Boby, M., Fearon, D., Ferla, M., et al. (2023). Open Science Discovery of Potent Non-Covalent SARS-CoV-2 Main Protease Inhibitors. doi: https://doi.org/10.1101/2020.10.29.339317\n",
    "\n",
    "[2] Owen, D. R. et al. An oral SARS-CoV-2 M¡sup¿pro¡/sup¿ inhibitor clinical candidate for the treatment of COVID-19. Science 2021, 374, 1586–1593. (12)\n",
    "\n",
    "[3] Unoh, Y.; Uehara, S.; Nakahara, K.; Nobori, H.; Yamatsu, Y.; Yamamoto, S.; Maruyama, Y.; Taoda, Y.; Kasamatsu, K.; Suto, T., et al. Discovery of S-217622, a Noncovalent Oral SARS-CoV-2 3CL Protease Inhibitor Clinical Candidate for Treating COVID-19. Journal of Medicinal Chemistry 2022, 65, 6499–6512.\n"
   ]
  }
 ],
 "metadata": {
  "colab": {
   "include_colab_link": true,
   "provenance": []
  },
  "kernelspec": {
   "display_name": "swe-molecular-sciences",
   "language": "python",
   "name": "python3"
  },
  "language_info": {
   "codemirror_mode": {
    "name": "ipython",
    "version": 3
   },
   "file_extension": ".py",
   "mimetype": "text/x-python",
   "name": "python",
   "nbconvert_exporter": "python",
   "pygments_lexer": "ipython3",
   "version": "3.10.14"
  }
 },
 "nbformat": 4,
 "nbformat_minor": 0
}
